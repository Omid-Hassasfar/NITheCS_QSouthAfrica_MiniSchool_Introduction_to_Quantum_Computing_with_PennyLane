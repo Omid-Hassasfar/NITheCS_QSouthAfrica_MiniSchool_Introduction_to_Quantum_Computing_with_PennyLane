{
  "nbformat": 4,
  "nbformat_minor": 0,
  "metadata": {
    "colab": {
      "provenance": [],
      "collapsed_sections": [
        "Leh2zIHf8lxQ",
        "-B_azt468zPf",
        "GIF0kpJxksYa",
        "t5hbi-v6eouw",
        "vaTuJjAhSVwD",
        "NxiBzFk7eGui",
        "aUDwC8EN7y4J",
        "AtjzqHQeSk5Z",
        "hnKNf6-xAe50",
        "T4nMYERmcpLt",
        "5xPc8VwT41RO",
        "Aa5mkvNY8zqf",
        "2I628joDwjQ3",
        "QqEBoVRbabei"
      ],
      "authorship_tag": "ABX9TyMYvpKQwPHLJUg9bxg+S6Sf",
      "include_colab_link": true
    },
    "kernelspec": {
      "name": "python3",
      "display_name": "Python 3"
    },
    "language_info": {
      "name": "python"
    }
  },
  "cells": [
    {
      "cell_type": "markdown",
      "metadata": {
        "id": "view-in-github",
        "colab_type": "text"
      },
      "source": [
        "<a href=\"https://colab.research.google.com/github/Omid-Hassasfar/NITheCS_QSouthAfrica_MiniSchool_Introduction_to_Quantum_Computing_with_PennyLane/blob/main/NITheCS_QSouthAfrica_Mini_School_Introduction_to_Quantum_Computing_with_PennyLane.ipynb\" target=\"_parent\"><img src=\"https://colab.research.google.com/assets/colab-badge.svg\" alt=\"Open In Colab\"/></a>"
      ]
    },
    {
      "cell_type": "markdown",
      "source": [
        "## Previous NITheCS/NITheP Schools on Quantum Computing"
      ],
      "metadata": {
        "id": "Leh2zIHf8lxQ"
      }
    },
    {
      "cell_type": "markdown",
      "source": [
        "1. Quantum Computing\n",
        "NITheP Mini-School by Dr Daniel Park (2020)   \n",
        "https://www.youtube.com/playlist?list=PLE9Qrf4CJnRGjWfSZ96cSjvm8t0IT1BFa   \n",
        "<br>\n",
        "\n",
        "2. Basic programming for quantum machine learning with Qiskit and PennyLane NITheP Mini-School by Amira Abbas (2020)   \n",
        "https://www.youtube.com/playlist?list=PLE9Qrf4CJnRHQ8K_WKcuE4mNoXl2HgY-r\n",
        "<br>\n",
        "\n",
        "3. A Practical Introduction to Quantum Computing with Qiskit NITheCS Mini-School by Ian Joel David (2022)  \n",
        "https://www.youtube.com/playlist?list=PLE9Qrf4CJnREpevvYhvjqCwO-f1qvRA8s   \n",
        "<br>\n",
        "\n",
        "4. An Introduction to the Quantum Simulation of Closed and Open Quantum Systems - NITheCS Mini-School by Ian Joel David (2024)\n",
        "https://www.youtube.com/playlist?list=PLE9Qrf4CJnREqZPZih2I24Q0IQhNrAZFO   \n",
        "<br>\n",
        "\n",
        "5. Mini-school From Electrons to Qubits: (Quantum Computing for Chemistry) NITheCS Mini-School by Shane McFarthing. (2024)   \n",
        "https://www.youtube.com/playlist?list=PLE9Qrf4CJnRGVPbcdw9ZHWYmCxRA7I0Be  \n",
        "<br>\n",
        "\n",
        "6. Hands-On Introduction to Quantum Computing with PennyLane - NITheCS Mini-school by Abbas (Omid) Hassasfar (2025)\n",
        "https://www.youtube.com/playlist?list=PLE9Qrf4CJnRFP8NedllrSPu-9KoyrdLi-"
      ],
      "metadata": {
        "id": "VTWVufK20jLh"
      }
    },
    {
      "cell_type": "markdown",
      "source": [
        "## Previous QSouthAfrica/QAfrica workshops on Quantum Computing"
      ],
      "metadata": {
        "id": "-B_azt468zPf"
      }
    },
    {
      "cell_type": "markdown",
      "source": [
        "https://qworld.net/qsouthafrica/\n",
        "\n",
        "https://www.linkedin.com/company/qsouthafrica\n",
        "<br><br>\n",
        "\n",
        "\n",
        "1. QBronze109 (Entangling event) : https://qworld.net/qbronze109/  (July 2023)   \n",
        "<br>\n",
        "2. QNickel9 (organized by QCousins of QTurkey, QIran, QSouthAfrica, and QUAE is a collective quantum workshop): https://qworld.net/qnickel9/ (December 2023)        \n",
        "<br>\n",
        "3. QPrep16, **QAfrica**: nine African QCousins – QSouthAfrica, QLibya, QNigeria, QCameroon, QAlgeria, QEgypt, QMorocco, QZimbabwe and QGhana ) :   https://qworld.net/qprep16/   (November 2024)    \n",
        "<br>\n",
        "4. QBronze147, **QAfrica** (nine African QCousins – QSouthAfrica, QLibya, QNigeria, QCameroon, QAlgeria, QEgypt, QMorocco, QZimbabwe and QGhana )  : https://qworld.net/qbronze147/ (December 2024)        \n",
        "<br>\n",
        "\n",
        "5. First QWorld Annual Meeting! January 2025 : https://qworld.net/qworld-annual-meeting/"
      ],
      "metadata": {
        "id": "mdcAGoOqHDBd"
      }
    },
    {
      "cell_type": "markdown",
      "source": [
        "## Quantum Computing Resource & Syllabus Mind Maps:"
      ],
      "metadata": {
        "id": "GIF0kpJxksYa"
      }
    },
    {
      "cell_type": "markdown",
      "source": [
        "‌ https://www.linkedin.com/feed/update/urn:li:activity:7357912387263299584/"
      ],
      "metadata": {
        "id": "UXH0iwV6vYJb"
      }
    },
    {
      "cell_type": "code",
      "source": [
        "# Show all installed Python packages in the current Google Colab environment\n",
        "\n",
        "# !pip list"
      ],
      "metadata": {
        "id": "iVl9Q2Fego2B"
      },
      "execution_count": 289,
      "outputs": []
    },
    {
      "cell_type": "markdown",
      "source": [
        "## 📦 Installing and importing"
      ],
      "metadata": {
        "id": "t5hbi-v6eouw"
      }
    },
    {
      "cell_type": "code",
      "source": [
        "!pip install pennylane --quiet"
      ],
      "metadata": {
        "id": "FXUqYcc74Q6F"
      },
      "execution_count": 290,
      "outputs": []
    },
    {
      "cell_type": "code",
      "source": [
        "# Check pennylane version\n",
        "\n",
        "import pennylane as qml\n",
        "from pennylane import draw_mpl\n",
        "\n",
        "print(\"Pennylane version:\", qml.__version__)"
      ],
      "metadata": {
        "id": "g-V-w-5WehbJ",
        "colab": {
          "base_uri": "https://localhost:8080/"
        },
        "outputId": "f2b873ca-e403-4c19-fd7f-7c5205f7261b"
      },
      "execution_count": 291,
      "outputs": [
        {
          "output_type": "stream",
          "name": "stdout",
          "text": [
            "Pennylane version: 0.42.3\n"
          ]
        }
      ]
    },
    {
      "cell_type": "code",
      "source": [
        "import numpy as np\n",
        "import matplotlib.pyplot as plt\n",
        "import sys\n",
        "import matplotlib\n",
        "import scipy as sp\n",
        "import sympy as sy\n",
        "\n",
        "print(\"Python version:\", sys.version)\n",
        "print(\"Numpy version:\", np.__version__)\n",
        "print(\"Matplotlib version:\", matplotlib.__version__)\n",
        "print(\"Sympy version:\", sy.__version__)\n",
        "print(\"SciPy version:\", sp.__version__)"
      ],
      "metadata": {
        "colab": {
          "base_uri": "https://localhost:8080/"
        },
        "id": "rJh8yiqFOEhR",
        "outputId": "3525aab0-7feb-4774-c83f-76fabffcc2a4"
      },
      "execution_count": 292,
      "outputs": [
        {
          "output_type": "stream",
          "name": "stdout",
          "text": [
            "Python version: 3.12.11 (main, Jun  4 2025, 08:56:18) [GCC 11.4.0]\n",
            "Numpy version: 2.0.2\n",
            "Matplotlib version: 3.10.0\n",
            "Sympy version: 1.13.3\n",
            "SciPy version: 1.16.1\n"
          ]
        }
      ]
    },
    {
      "cell_type": "markdown",
      "source": [
        "## Real Quantum Computers (QPUs) providers:"
      ],
      "metadata": {
        "id": "vaTuJjAhSVwD"
      }
    },
    {
      "cell_type": "markdown",
      "source": [
        "https://aws.amazon.com/braket/quantum-computers/\n",
        "\n",
        "https://learn.microsoft.com/en-us/azure/quantum/qc-target-list\n",
        "\n",
        "https://forge.qcware.com/ & https://forge.qcware.com/pricing/\n",
        "\n",
        "https://quantum.cloud.ibm.com/computers\n",
        "\n",
        "https://www.xanadu.ai/products/x-series\n",
        "\n",
        "https://www.dwavequantum.com/solutions-and-products/systems/\n",
        "\n",
        "https://www.quantinuum.com/products-solutions/quantinuum-systems\n",
        "---\n",
        "---\n",
        "**Devices and Quantum hardware PennyLane supports a wide range of quantum simulators and hardware devices**:   \n",
        "https://pennylane.ai/install"
      ],
      "metadata": {
        "id": "hx7Cw1wdvNJ0"
      }
    },
    {
      "cell_type": "markdown",
      "source": [
        "## I created some functions that are not built-in in PennyLane\n"
      ],
      "metadata": {
        "id": "NxiBzFk7eGui"
      }
    },
    {
      "cell_type": "code",
      "source": [
        "# This function is a quantum state pretty-printer that takes a state vector psi and displays\n",
        "# it in Dirac (ket) notation.\n",
        "\n",
        "def print_state_ket(psi, num_wires=None, precision=3, threshold=1e-10):\n",
        "    \"\"\"\n",
        "    Prints a quantum state vector in Dirac (ket) notation, showing each basis state's complex amplitude.\n",
        "\n",
        "    Args:\n",
        "        psi (array-like): State vector as a list or NumPy array of complex amplitudes.\n",
        "        num_wires (int or None): Number of qubits. If None, it is inferred from len(psi).\n",
        "        precision (int): Number of decimal places for real and imaginary parts.\n",
        "        threshold (float): Amplitudes with magnitude below this are omitted from the output.\n",
        "    \"\"\"\n",
        "    import numpy as np\n",
        "\n",
        "    psi = np.asarray(psi)\n",
        "    if num_wires is None:\n",
        "        num_wires = int(np.log2(len(psi)))\n",
        "        if 2 ** num_wires != len(psi):\n",
        "            raise ValueError(\"State length is not a power of 2. Cannot infer number of wires.\")\n",
        "\n",
        "    basis_states = [f\"|{i:0{num_wires}b}⟩\" for i in range(2 ** num_wires)]\n",
        "    terms = [\n",
        "        f\"({amp.real:+.{precision}f}{amp.imag:+.{precision}f}j){ket}\"\n",
        "        for amp, ket in zip(psi, basis_states)\n",
        "        if abs(amp) > threshold\n",
        "    ]\n",
        "    state_str = \" +\\n    \".join(terms) if terms else \"0\"\n",
        "    print(f\"|ψ⟩ = {state_str}\")"
      ],
      "metadata": {
        "id": "IHK1pFUZet7p"
      },
      "execution_count": 293,
      "outputs": []
    },
    {
      "cell_type": "code",
      "source": [
        "# Plots a histogram using Matplotlib\n",
        "\n",
        "def plot_probabilities(probs, n_bits, title=None):\n",
        "    \"\"\"Plot probabilities with ket notation on x-axis.\n",
        "\n",
        "    Args:\n",
        "        probs (array-like): Probability distribution (length 2**n_bits).\n",
        "        n_bits (int): Number of qubits.\n",
        "        title (str, optional): Custom plot title. If None, a default is used.\n",
        "    \"\"\"\n",
        "    # Generate ket-notation labels\n",
        "    basis_states = [f\"|{i:0{n_bits}b}⟩\" for i in range(2**n_bits)]\n",
        "\n",
        "    # Plot histogram\n",
        "    plt.figure(figsize=(12,6))  # wider figure\n",
        "    plt.bar(basis_states, probs, color=\"steelblue\", edgecolor=\"black\")\n",
        "    plt.xlabel(\"Basis state (ket)\")\n",
        "    plt.ylabel(\"Probability\")\n",
        "    if title:\n",
        "        plt.title(title)\n",
        "    else:\n",
        "        plt.title(f\"Probability Distribution for {n_bits}-qubit system\")\n",
        "    plt.xticks(rotation=45, ha=\"right\")  # angled labels for readability\n",
        "    plt.tight_layout()\n",
        "    plt.show()"
      ],
      "metadata": {
        "id": "rul8ktK2eUq0"
      },
      "execution_count": 294,
      "outputs": []
    },
    {
      "cell_type": "markdown",
      "source": [
        "## Resources for this mini-school:"
      ],
      "metadata": {
        "id": "aUDwC8EN7y4J"
      }
    },
    {
      "cell_type": "markdown",
      "source": [
        "https://pennylane.ai/codebook/learning-paths/foundations-of-quantum-computing\n",
        "\n",
        "https://pennylane.ai/codebook/pennylane-fundamentals\n",
        "\n",
        "\n",
        "Several styles for drawings qml.drawer: https://docs.pennylane.ai/en/stable/code/qml_drawer.html\n",
        "\n",
        "Bloch Sphere: https://pennylane.ai/codebook/single-qubit-gates/from-a-different-angle\n",
        "\n",
        "<br>\n",
        "\n",
        "https://en.wikipedia.org/wiki/Complex_number     \n",
        "https://en.wikipedia.org/wiki/Logic_gate      \n",
        "https://en.wikipedia.org/wiki/Eigenvalues_and_eigenvectors#Matrix_examples\n",
        "https://en.wikipedia.org/wiki/Expectation_value_(quantum_mechanics)"
      ],
      "metadata": {
        "id": "AJ65n-Q_vT5q"
      }
    },
    {
      "cell_type": "markdown",
      "source": [
        "## Codercise I.1.5 — A simple quantum algorithm"
      ],
      "metadata": {
        "id": "AtjzqHQeSk5Z"
      }
    },
    {
      "cell_type": "code",
      "source": [
        "U = np.array([[1, 1], [1, -1]]) / np.sqrt(2)\n",
        "\n",
        "def initialize_state():\n",
        "    \"\"\"Prepare a qubit in state |0>.\n",
        "\n",
        "    Returns:\n",
        "        np.array[float]: the vector representation of state |0>.\n",
        "    \"\"\"\n",
        "\n",
        "    # PREPARE THE STATE |0>\n",
        "    return np.array([1, 0])\n",
        "\n",
        "def apply_u(state):\n",
        "    \"\"\"Apply a quantum operation.\"\"\"\n",
        "    return np.dot(U, state)\n",
        "\n",
        "def measure_state(state, num_meas):\n",
        "    \"\"\"Measure a quantum state num_meas times.\"\"\"\n",
        "    p_alpha = np.abs(state[0]) ** 2\n",
        "    p_beta = np.abs(state[1]) ** 2\n",
        "    meas_outcome = np.random.choice([0, 1], p=[p_alpha, p_beta], size=num_meas)\n",
        "    return meas_outcome\n",
        "\n",
        "def quantum_algorithm():\n",
        "    \"\"\"Use the functions above to implement the quantum algorithm described above.\n",
        "\n",
        "    Try and do so using three lines of code or less!\n",
        "\n",
        "    Returns:\n",
        "        np.array[int]: the measurement results after running the algorithm 100 times\n",
        "    \"\"\"\n",
        "\n",
        "    # PREPARE THE STATE, APPLY U, THEN TAKE 100 MEASUREMENT SAMPLES\n",
        "    state = initialize_state()\n",
        "    state = apply_u(state)\n",
        "    return measure_state(state, 1000)"
      ],
      "metadata": {
        "id": "1WTavucdSlph"
      },
      "execution_count": 295,
      "outputs": []
    },
    {
      "cell_type": "code",
      "source": [
        "print(quantum_algorithm())"
      ],
      "metadata": {
        "colab": {
          "base_uri": "https://localhost:8080/"
        },
        "id": "cpT7yj_yFe5Q",
        "outputId": "231a7c1d-0dd4-4348-ffd3-39898fe7497e"
      },
      "execution_count": 296,
      "outputs": [
        {
          "output_type": "stream",
          "name": "stdout",
          "text": [
            "[0 1 0 0 0 0 1 1 0 1 0 0 1 0 0 1 0 1 1 0 0 0 0 1 1 0 1 1 0 1 0 1 1 0 0 1 0\n",
            " 1 1 0 1 1 0 0 1 1 0 0 0 1 1 1 0 0 0 1 0 1 1 0 0 0 1 1 1 0 1 0 1 1 0 1 1 0\n",
            " 0 0 0 1 0 0 0 1 0 0 1 1 0 1 1 0 0 1 1 0 1 0 1 1 0 1 0 1 1 0 1 0 1 0 0 1 1\n",
            " 0 1 0 0 1 1 0 0 0 1 1 1 0 1 1 1 1 0 1 1 1 1 0 0 0 0 0 0 1 1 1 0 0 0 1 1 0\n",
            " 1 1 0 1 0 1 0 1 0 0 1 1 1 1 0 1 0 1 1 0 0 1 1 0 1 1 0 0 1 0 1 1 0 0 0 1 1\n",
            " 0 1 1 1 0 0 1 1 1 1 1 1 0 0 0 0 1 1 1 0 0 0 1 1 1 1 1 1 0 0 1 1 0 0 0 1 0\n",
            " 0 0 0 0 1 0 0 0 1 1 0 1 1 1 1 0 1 0 0 1 1 0 0 0 1 0 0 0 0 0 0 1 1 0 0 0 0\n",
            " 0 1 1 0 0 0 1 0 1 1 1 0 0 0 1 0 1 1 0 1 0 0 1 1 1 0 1 1 0 1 1 1 1 1 0 1 1\n",
            " 0 0 0 0 1 0 0 0 0 0 0 1 0 0 0 0 1 0 1 0 1 1 0 1 0 1 1 0 0 0 1 0 1 1 1 0 0\n",
            " 0 1 1 1 1 0 0 0 1 1 0 1 1 0 1 1 1 0 0 0 1 1 1 0 1 1 0 1 1 0 1 1 0 0 1 0 1\n",
            " 0 0 1 0 1 0 1 1 0 0 1 0 1 0 0 1 1 1 1 1 0 1 0 1 0 0 1 0 0 0 0 1 1 1 0 0 1\n",
            " 0 0 1 1 0 1 0 0 0 1 1 0 1 1 1 0 0 1 1 1 0 0 0 0 0 1 1 1 0 0 1 0 1 0 1 0 1\n",
            " 1 0 1 0 0 1 1 0 0 1 0 0 1 0 1 0 0 0 1 1 1 1 1 1 0 0 1 1 1 1 1 1 1 0 1 1 1\n",
            " 0 0 0 0 1 0 1 0 0 1 0 0 0 0 1 0 1 0 0 0 0 0 0 1 1 1 0 0 0 0 0 0 0 0 1 1 1\n",
            " 1 1 0 0 0 1 1 0 1 1 1 1 1 1 0 0 1 1 0 1 1 0 1 1 0 1 0 1 1 1 1 0 1 0 0 0 0\n",
            " 1 0 0 1 0 1 0 1 0 0 0 0 1 0 1 0 0 1 0 1 1 0 1 0 1 0 0 0 0 0 0 0 1 0 0 1 1\n",
            " 0 0 0 0 0 1 0 0 0 1 0 1 1 1 0 1 1 0 0 0 1 0 0 0 1 0 0 0 0 1 0 0 0 1 0 1 0\n",
            " 0 0 1 1 1 0 1 0 1 0 0 0 0 1 1 0 1 0 1 1 0 0 1 0 1 0 0 0 0 1 1 1 1 1 0 1 0\n",
            " 1 1 0 0 1 1 1 1 0 0 1 1 1 1 0 0 0 1 0 1 0 0 1 1 0 1 0 1 0 0 1 1 0 1 0 0 0\n",
            " 0 1 0 0 0 1 1 1 0 1 1 1 0 0 1 1 1 1 0 0 1 0 1 0 1 0 1 1 1 1 1 1 0 0 0 0 0\n",
            " 1 1 1 1 1 0 1 0 1 0 1 1 0 0 0 0 1 1 1 0 0 0 0 0 1 0 1 1 1 0 1 1 0 1 0 0 1\n",
            " 0 1 0 0 1 1 0 0 1 1 0 1 1 1 0 1 0 1 1 1 1 1 1 0 1 0 1 1 0 1 0 0 1 0 0 0 0\n",
            " 0 0 0 0 1 0 0 1 0 1 1 1 0 0 1 0 0 0 0 1 0 0 1 1 0 1 0 0 1 1 0 0 0 0 1 0 1\n",
            " 0 1 0 0 0 1 1 0 0 0 0 1 0 1 1 1 1 1 1 1 1 0 1 1 1 0 0 0 0 0 0 1 0 1 1 0 1\n",
            " 0 0 0 1 0 1 0 0 1 0 0 1 0 1 1 0 1 1 0 1 1 1 0 1 0 1 0 0 0 0 1 1 1 1 0 1 0\n",
            " 1 0 0 0 0 0 1 0 0 1 1 0 0 0 0 1 1 0 1 0 0 1 1 1 0 1 0 0 1 0 0 1 0 1 0 1 1\n",
            " 0 1 1 1 0 0 1 0 0 0 0 1 1 0 1 0 0 1 1 1 0 0 1 0 1 1 0 1 0 1 1 0 0 0 0 1 1\n",
            " 1]\n"
          ]
        }
      ]
    },
    {
      "cell_type": "code",
      "source": [
        "import collections\n",
        "results = quantum_algorithm()\n",
        "collections.Counter(results)"
      ],
      "metadata": {
        "colab": {
          "base_uri": "https://localhost:8080/"
        },
        "id": "yQgl9ohIHw9N",
        "outputId": "ec9f7391-37b3-4fca-92fb-59829c94bbf0"
      },
      "execution_count": 297,
      "outputs": [
        {
          "output_type": "execute_result",
          "data": {
            "text/plain": [
              "Counter({np.int64(1): 492, np.int64(0): 508})"
            ]
          },
          "metadata": {},
          "execution_count": 297
        }
      ]
    },
    {
      "cell_type": "code",
      "source": [
        "counts = collections.Counter(results)\n",
        "\n",
        "# Calculate percentages\n",
        "total = sum(counts.values())\n",
        "percentages = {k: (v / total) * 100 for k, v in counts.items()}\n",
        "\n",
        "# Display results\n",
        "print(\"Counts:\", counts)\n",
        "print(\"Percentages:\", {k: f\"{v:.2f}%\" for k, v in percentages.items()})"
      ],
      "metadata": {
        "colab": {
          "base_uri": "https://localhost:8080/"
        },
        "id": "TdvwG-XcHw_g",
        "outputId": "341dc5bf-7e7c-401c-f8d6-a1ffe98fb2a9"
      },
      "execution_count": 298,
      "outputs": [
        {
          "output_type": "stream",
          "name": "stdout",
          "text": [
            "Counts: Counter({np.int64(0): 508, np.int64(1): 492})\n",
            "Percentages: {np.int64(1): '49.20%', np.int64(0): '50.80%'}\n"
          ]
        }
      ]
    },
    {
      "cell_type": "code",
      "source": [
        "# Plot Histogram\n",
        "\n",
        "# Define Hadamard gate\n",
        "U = np.array([[1, 1], [1, -1]]) / np.sqrt(2)\n",
        "\n",
        "def initialize_state():\n",
        "    \"\"\"Prepare a qubit in state |0>.\"\"\"\n",
        "    return np.array([1, 0])\n",
        "\n",
        "def apply_u(state):\n",
        "    \"\"\"Apply the Hadamard gate.\"\"\"\n",
        "    return np.dot(U, state)\n",
        "\n",
        "def measure_state(state, num_meas):\n",
        "    \"\"\"Measure a quantum state num_meas times.\"\"\"\n",
        "    p_alpha = np.abs(state[0]) ** 2\n",
        "    p_beta = np.abs(state[1]) ** 2\n",
        "    return np.random.choice([0, 1], p=[p_alpha, p_beta], size=num_meas)\n",
        "\n",
        "def quantum_algorithm(num_shots=100):\n",
        "    \"\"\"Prepare |0>, apply H, then measure num_shots times.\"\"\"\n",
        "    state = initialize_state()\n",
        "    state = apply_u(state)\n",
        "    return measure_state(state, num_shots)\n",
        "\n",
        "# ---- Run and analyze ----\n",
        "num_shots = 1000  # increase for smoother histogram\n",
        "results = quantum_algorithm(num_shots)\n",
        "\n",
        "# Count occurrences\n",
        "counts = collections.Counter(results)\n",
        "\n",
        "# Calculate percentages\n",
        "total = sum(counts.values())\n",
        "percentages = {k: (v / total) * 100 for k, v in counts.items()}\n",
        "\n",
        "# Print results\n",
        "print(\"Counts:\", counts)\n",
        "print(\"Percentages:\", {k: f\"{v:.2f}%\" for k, v in percentages.items()})\n",
        "\n",
        "# Plot counts histogram\n",
        "labels = sorted(counts.keys())\n",
        "values = [counts[k] for k in labels]\n",
        "plt.bar(labels, values)\n",
        "plt.title(f\"Measurement Outcomes over {num_shots} shots\")\n",
        "plt.xlabel(\"Outcome\")\n",
        "plt.ylabel(\"Counts\")\n",
        "plt.xticks(labels)\n",
        "plt.show()"
      ],
      "metadata": {
        "colab": {
          "base_uri": "https://localhost:8080/",
          "height": 0
        },
        "id": "JFMunXy4NYic",
        "outputId": "b84247e5-725a-4949-deaa-a165ded48c00"
      },
      "execution_count": 299,
      "outputs": [
        {
          "output_type": "stream",
          "name": "stdout",
          "text": [
            "Counts: Counter({np.int64(1): 541, np.int64(0): 459})\n",
            "Percentages: {np.int64(1): '54.10%', np.int64(0): '45.90%'}\n"
          ]
        },
        {
          "output_type": "display_data",
          "data": {
            "text/plain": [
              "<Figure size 640x480 with 1 Axes>"
            ],
            "image/png": "[encoded data removed]"
          },
          "metadata": {}
        }
      ]
    },
    {
      "cell_type": "code",
      "source": [
        "# Plot percentage histogram\n",
        "plt.bar(labels, [percentages[k] for k in labels])\n",
        "plt.title(f\"Measurement Outcome Percentages over {num_shots} shots\")\n",
        "plt.xlabel(\"Outcome\")\n",
        "plt.ylabel(\"Percentage (%)\")\n",
        "plt.xticks(labels)\n",
        "plt.show()"
      ],
      "metadata": {
        "colab": {
          "base_uri": "https://localhost:8080/",
          "height": 0
        },
        "id": "U6LOflUkZz7w",
        "outputId": "292eac0d-e658-49dd-dcfe-2041d1ee52e3"
      },
      "execution_count": 300,
      "outputs": [
        {
          "output_type": "display_data",
          "data": {
            "text/plain": [
              "<Figure size 640x480 with 1 Axes>"
            ],
            "image/png": "[encoded data removed]"
          },
          "metadata": {}
        }
      ]
    },
    {
      "cell_type": "markdown",
      "source": [
        "## Most common ***Single-Qubit Gates & Multi-Qubit Gates + PennyLane measurements cheat sheet***.\n",
        "Tables as a reference!: (PennyLane includes a wide array of built-in gates to use):"
      ],
      "metadata": {
        "id": "hnKNf6-xAe50"
      }
    },
    {
      "cell_type": "markdown",
      "source": [
        "https://pennylane.ai/codebook/single-qubit-gates/prepare-yourself\n",
        "\n",
        "https://pennylane.ai/codebook/circuits-with-many-qubits/multi-qubit-challenge\n",
        "\n",
        "https://pennylane.ai/codebook/pennylane-fundamentals/quantum-operations\n",
        "\n",
        "https://pennylane.ai/codebook/pennylane-fundamentals/measurements-in-pennylane"
      ],
      "metadata": {
        "id": "6M_tcXXDZvg8"
      }
    },
    {
      "cell_type": "markdown",
      "source": [
        "## Codercise I.2.3 — The QNode decorator"
      ],
      "metadata": {
        "id": "T4nMYERmcpLt"
      }
    },
    {
      "cell_type": "code",
      "source": [
        "dev = qml.device(\"default.qubit\", wires=3)\n",
        "\n",
        "# decorate the function to turn it into a QNode\n",
        "@qml.qnode(dev)\n",
        "def my_circuit(theta, phi, omega):\n",
        "    qml.RX(theta, wires=0)\n",
        "    qml.RY(phi, wires=1)\n",
        "    qml.RZ(omega, wires=2)\n",
        "    qml.Barrier(wires=[0, 1, 2])  # The Barrier operator, used to separate the compilation process into blocks or as a visual tool.\n",
        "    qml.CNOT(wires=[0, 1])\n",
        "    qml.CNOT(wires=[1, 2])\n",
        "    qml.CNOT(wires=[2, 0])\n",
        "    qml.Barrier(wires=[0, 1, 2])\n",
        "    return qml.probs(wires=[0, 1, 2])\n",
        "\n",
        "# given parameters\n",
        "theta, phi, omega = 0.1, 0.2, 0.3"
      ],
      "metadata": {
        "id": "FmJ3db7EcrU9"
      },
      "execution_count": 301,
      "outputs": []
    },
    {
      "cell_type": "code",
      "source": [
        "# run the QNode\n",
        "# We have 3 qubits → 8 possible measurement outcomes:\n",
        "print(my_circuit(theta, phi, omega))"
      ],
      "metadata": {
        "colab": {
          "base_uri": "https://localhost:8080/"
        },
        "id": "VTzmOalgdG_-",
        "outputId": "be3f39e0-7b16-4889-90ed-952ce384ccec"
      },
      "execution_count": 302,
      "outputs": [
        {
          "output_type": "stream",
          "name": "stdout",
          "text": [
            "[9.87560268e-01 0.00000000e+00 0.00000000e+00 2.47302134e-03\n",
            " 2.48960206e-05 0.00000000e+00 0.00000000e+00 9.94181506e-03]\n"
          ]
        }
      ]
    },
    {
      "cell_type": "code",
      "source": [
        "sy.Matrix(my_circuit(theta, phi, omega))"
      ],
      "metadata": {
        "colab": {
          "base_uri": "https://localhost:8080/",
          "height": 0
        },
        "id": "GWebzPqw5qRZ",
        "outputId": "32f953f3-2c83-4a7a-825d-e7d41a8fffba"
      },
      "execution_count": 303,
      "outputs": [
        {
          "output_type": "execute_result",
          "data": {
            "text/plain": [
              "Matrix([\n",
              "[  0.987560267580271],\n",
              "[                0.0],\n",
              "[                0.0],\n",
              "[0.00247302134034999],\n",
              "[2.48960206371239e-5],\n",
              "[                0.0],\n",
              "[                0.0],\n",
              "[0.00994181505874206]])"
            ],
            "text/latex": "$\\displaystyle \\left[\\begin{matrix}0.987560267580271\\\\0.0\\\\0.0\\\\0.00247302134034999\\\\2.48960206371239 \\cdot 10^{-5}\\\\0.0\\\\0.0\\\\0.00994181505874206\\end{matrix}\\right]$"
          },
          "metadata": {},
          "execution_count": 303
        }
      ]
    },
    {
      "cell_type": "code",
      "source": [
        "# run the QNode\n",
        "probs = my_circuit(theta, phi, omega)\n",
        "print()\n",
        "# check that they sum to 1\n",
        "print(\"Probabilities:\", probs)\n",
        "print()\n",
        "print(\"Sum of probabilities:\", sum(probs))\n",
        "print()\n",
        "print(\"Sum of probabilities:\", round(sum(probs), 7))"
      ],
      "metadata": {
        "colab": {
          "base_uri": "https://localhost:8080/"
        },
        "id": "bp4unm9lx693",
        "outputId": "e1c15906-4ca1-4c74-cc37-36e43faf3943"
      },
      "execution_count": 304,
      "outputs": [
        {
          "output_type": "stream",
          "name": "stdout",
          "text": [
            "\n",
            "Probabilities: [9.87560268e-01 0.00000000e+00 0.00000000e+00 2.47302134e-03\n",
            " 2.48960206e-05 0.00000000e+00 0.00000000e+00 9.94181506e-03]\n",
            "\n",
            "Sum of probabilities: 0.9999999999999999\n",
            "\n",
            "Sum of probabilities: 1.0\n"
          ]
        }
      ]
    },
    {
      "cell_type": "code",
      "source": [
        "print(qml.draw(my_circuit)(theta, phi, omega))"
      ],
      "metadata": {
        "colab": {
          "base_uri": "https://localhost:8080/"
        },
        "id": "huUe77FYdJKA",
        "outputId": "b89a6a14-83bf-4883-f8ab-006227849116"
      },
      "execution_count": 305,
      "outputs": [
        {
          "output_type": "stream",
          "name": "stdout",
          "text": [
            "0: ──RX(0.10)─╭||─╭●────╭X─╭||─┤ ╭Probs\n",
            "1: ──RY(0.20)─├||─╰X─╭●─│──├||─┤ ├Probs\n",
            "2: ──RZ(0.30)─╰||────╰X─╰●─╰||─┤ ╰Probs\n"
          ]
        }
      ]
    },
    {
      "cell_type": "code",
      "source": [
        "fig, ax = qml.draw_mpl(my_circuit, decimals=3, style=\"pennylane\")(theta, phi, omega)\n",
        "plt.show()"
      ],
      "metadata": {
        "colab": {
          "base_uri": "https://localhost:8080/",
          "height": 0
        },
        "id": "su_pc1TJeWUZ",
        "outputId": "603e7268-9be5-434d-dac0-8a0d0d3d4d30"
      },
      "execution_count": 306,
      "outputs": [
        {
          "output_type": "display_data",
          "data": {
            "text/plain": [
              "<Figure size 900x400 with 1 Axes>"
            ],
            "image/png": "[encoded data removed]"
          },
          "metadata": {}
        }
      ]
    },
    {
      "cell_type": "code",
      "source": [
        "draw_mpl(my_circuit)(theta, phi, omega);"
      ],
      "metadata": {
        "colab": {
          "base_uri": "https://localhost:8080/",
          "height": 0
        },
        "id": "yJ4nQJLMdJMf",
        "outputId": "e4b35b44-6f7d-4300-e9cb-9a482c45e7b5"
      },
      "execution_count": 307,
      "outputs": [
        {
          "output_type": "display_data",
          "data": {
            "text/plain": [
              "<Figure size 900x400 with 1 Axes>"
            ],
            "image/png": "[encoded data removed]"
          },
          "metadata": {}
        }
      ]
    },
    {
      "cell_type": "code",
      "source": [
        "draw_mpl(my_circuit , style=\"pennylane\" )(theta, phi, omega);"
      ],
      "metadata": {
        "colab": {
          "base_uri": "https://localhost:8080/",
          "height": 0
        },
        "id": "YMAB9pRUeKsw",
        "outputId": "604c022d-1da3-420e-e219-9af130d8393a"
      },
      "execution_count": 308,
      "outputs": [
        {
          "output_type": "display_data",
          "data": {
            "text/plain": [
              "<Figure size 900x400 with 1 Axes>"
            ],
            "image/png": "[encoded data removed]"
          },
          "metadata": {}
        }
      ]
    },
    {
      "cell_type": "markdown",
      "source": [
        "## Codercise I.3.1 — Unitaries in PennyLane"
      ],
      "metadata": {
        "id": "5xPc8VwT41RO"
      }
    },
    {
      "cell_type": "code",
      "source": [
        "# Applies a custom ** unitary matrix ** to specified qubit wires.\n",
        "\n",
        "dev = qml.device(\"default.qubit\", wires=1)\n",
        "\n",
        "U = np.array([[1, 1], [1, -1]]) / np.sqrt(2)\n",
        "\n",
        "\n",
        "@qml.qnode(dev)\n",
        "def apply_u():\n",
        "\n",
        "    # USE QubitUnitary TO APPLY U TO THE QUBIT\n",
        "    qml.QubitUnitary(U, wires=0)\n",
        "\n",
        "    # Return the state\n",
        "    return qml.state()"
      ],
      "metadata": {
        "id": "wIA-iyNw47qK"
      },
      "execution_count": 309,
      "outputs": []
    },
    {
      "cell_type": "code",
      "source": [
        "apply_u()"
      ],
      "metadata": {
        "colab": {
          "base_uri": "https://localhost:8080/"
        },
        "id": "w5iV605D47tJ",
        "outputId": "7078dca3-757f-4ef4-d2ac-16d05ce1407e"
      },
      "execution_count": 310,
      "outputs": [
        {
          "output_type": "execute_result",
          "data": {
            "text/plain": [
              "array([0.70710678+0.j, 0.70710678+0.j])"
            ]
          },
          "metadata": {},
          "execution_count": 310
        }
      ]
    },
    {
      "cell_type": "code",
      "source": [
        "sy.Matrix(apply_u())"
      ],
      "metadata": {
        "colab": {
          "base_uri": "https://localhost:8080/",
          "height": 0
        },
        "id": "Vistcot_59pi",
        "outputId": "720fc755-82b4-4a15-eec1-f236ca937a81"
      },
      "execution_count": 311,
      "outputs": [
        {
          "output_type": "execute_result",
          "data": {
            "text/plain": [
              "Matrix([\n",
              "[0.707106781186547],\n",
              "[0.707106781186547]])"
            ],
            "text/latex": "$\\displaystyle \\left[\\begin{matrix}0.707106781186547\\\\0.707106781186547\\end{matrix}\\right]$"
          },
          "metadata": {},
          "execution_count": 311
        }
      ]
    },
    {
      "cell_type": "code",
      "source": [
        "# let's check if U is unitary or not!\n",
        "\n",
        "U"
      ],
      "metadata": {
        "colab": {
          "base_uri": "https://localhost:8080/"
        },
        "id": "Fhj-crg_6fN1",
        "outputId": "520dcaa4-d580-4f33-a3d9-70e8566d1430"
      },
      "execution_count": 312,
      "outputs": [
        {
          "output_type": "execute_result",
          "data": {
            "text/plain": [
              "array([[ 0.70710678,  0.70710678],\n",
              "       [ 0.70710678, -0.70710678]])"
            ]
          },
          "metadata": {},
          "execution_count": 312
        }
      ]
    },
    {
      "cell_type": "code",
      "source": [
        "U.conj().T"
      ],
      "metadata": {
        "colab": {
          "base_uri": "https://localhost:8080/"
        },
        "id": "ti1KxZna62YK",
        "outputId": "2c0fbc56-8a90-491d-bb49-bb1c355aa457"
      },
      "execution_count": 313,
      "outputs": [
        {
          "output_type": "execute_result",
          "data": {
            "text/plain": [
              "array([[ 0.70710678,  0.70710678],\n",
              "       [ 0.70710678, -0.70710678]])"
            ]
          },
          "metadata": {},
          "execution_count": 313
        }
      ]
    },
    {
      "cell_type": "code",
      "source": [
        "U @ U.conj().T"
      ],
      "metadata": {
        "colab": {
          "base_uri": "https://localhost:8080/"
        },
        "id": "1QOkXoVh642C",
        "outputId": "2f50eb31-de49-444c-c698-0ecff5310eee"
      },
      "execution_count": 314,
      "outputs": [
        {
          "output_type": "execute_result",
          "data": {
            "text/plain": [
              "array([[ 1.00000000e+00, -2.23711432e-17],\n",
              "       [-2.23711432e-17,  1.00000000e+00]])"
            ]
          },
          "metadata": {},
          "execution_count": 314
        }
      ]
    },
    {
      "cell_type": "code",
      "source": [
        "np.round(U @ U.conj().T, 10)"
      ],
      "metadata": {
        "colab": {
          "base_uri": "https://localhost:8080/"
        },
        "id": "bI-jqrNl6-6v",
        "outputId": "79eb3ae5-eab0-4a4a-9ddc-31265ebe2503"
      },
      "execution_count": 315,
      "outputs": [
        {
          "output_type": "execute_result",
          "data": {
            "text/plain": [
              "array([[ 1., -0.],\n",
              "       [-0.,  1.]])"
            ]
          },
          "metadata": {},
          "execution_count": 315
        }
      ]
    },
    {
      "cell_type": "markdown",
      "source": [
        "## Codercise I.14.1 — The Bell states\n",
        "\n",
        "https://pennylane.ai/codebook/circuits-with-many-qubits/multi-qubit-challenge"
      ],
      "metadata": {
        "id": "c96yLZP3HUNh"
      }
    },
    {
      "cell_type": "code",
      "source": [
        "dev = qml.device(\"default.qubit\", wires=2)\n",
        "\n",
        "# Starting from |00>, construct each Bell state.\n",
        "\n",
        "@qml.qnode(dev)\n",
        "def prepare_psi_plus():\n",
        "    # PREPARE (1/sqrt(2)) (|00> + |11>)  ≡ |Φ+>\n",
        "    qml.Hadamard(wires=0)\n",
        "    qml.CNOT(wires=[0, 1])\n",
        "    return qml.state()\n",
        "\n",
        "@qml.qnode(dev)\n",
        "def prepare_psi_minus():\n",
        "    # PREPARE (1/sqrt(2)) (|00> - |11>)  ≡ |Φ->\n",
        "    qml.Hadamard(wires=0)\n",
        "    qml.CNOT(wires=[0, 1])\n",
        "    qml.PauliZ(wires=0)\n",
        "    return qml.state()\n",
        "\n",
        "@qml.qnode(dev)\n",
        "def prepare_phi_plus():\n",
        "    # PREPARE (1/sqrt(2)) (|01> + |10>)  ≡ |Ψ+>\n",
        "    qml.Hadamard(wires=0)\n",
        "    qml.CNOT(wires=[0, 1])\n",
        "    qml.PauliX(wires=0)\n",
        "    return qml.state()\n",
        "\n",
        "@qml.qnode(dev)\n",
        "def prepare_phi_minus():\n",
        "    # PREPARE (1/sqrt(2)) (|01> - |10>)  ≡ |Ψ->\n",
        "    qml.Hadamard(wires=0)\n",
        "    qml.CNOT(wires=[0, 1])\n",
        "    qml.PauliX(wires=0)\n",
        "    qml.PauliZ(wires=0)\n",
        "    return qml.state()\n",
        "\n",
        "psi_plus = prepare_psi_plus()\n",
        "psi_minus = prepare_psi_minus()\n",
        "phi_plus = prepare_phi_plus()\n",
        "phi_minus = prepare_phi_minus()\n",
        "\n",
        "# Uncomment to print results\n",
        "print(f\"|ψ_+> = {psi_plus}\", '\\n')\n",
        "print_state_ket (psi_plus)\n",
        "print()\n",
        "print(f\"|ψ_-> = {psi_minus}\" , '\\n')\n",
        "print_state_ket (psi_minus)\n",
        "print()\n",
        "print(f\"|ϕ_+> = {phi_plus}\", '\\n')\n",
        "print_state_ket (phi_plus)\n",
        "print()\n",
        "print(f\"|ϕ_-> = {phi_minus}\", '\\n')\n",
        "print_state_ket (phi_minus)"
      ],
      "metadata": {
        "colab": {
          "base_uri": "https://localhost:8080/"
        },
        "id": "OT6MttlSHtdm",
        "outputId": "c42db3f5-7f66-488f-e7d0-03ef90bef75f"
      },
      "execution_count": 316,
      "outputs": [
        {
          "output_type": "stream",
          "name": "stdout",
          "text": [
            "|ψ_+> = [0.70710678+0.j 0.        +0.j 0.        +0.j 0.70710678+0.j] \n",
            "\n",
            "|ψ⟩ = (+0.707+0.000j)|00⟩ +\n",
            "    (+0.707+0.000j)|11⟩\n",
            "\n",
            "|ψ_-> = [ 0.70710678+0.j  0.        +0.j -0.        +0.j -0.70710678+0.j] \n",
            "\n",
            "|ψ⟩ = (+0.707+0.000j)|00⟩ +\n",
            "    (-0.707+0.000j)|11⟩\n",
            "\n",
            "|ϕ_+> = [0.        +0.j 0.70710678+0.j 0.70710678+0.j 0.        +0.j] \n",
            "\n",
            "|ψ⟩ = (+0.707+0.000j)|01⟩ +\n",
            "    (+0.707+0.000j)|10⟩\n",
            "\n",
            "|ϕ_-> = [ 0.        +0.j  0.70710678+0.j -0.70710678+0.j -0.        +0.j] \n",
            "\n",
            "|ψ⟩ = (+0.707+0.000j)|01⟩ +\n",
            "    (-0.707+0.000j)|10⟩\n"
          ]
        }
      ]
    },
    {
      "cell_type": "markdown",
      "source": [
        "## a simple example of Dirac (ket) notation representation of the state"
      ],
      "metadata": {
        "id": "Aa5mkvNY8zqf"
      }
    },
    {
      "cell_type": "markdown",
      "source": [
        "First Example:"
      ],
      "metadata": {
        "id": "nRnluf4v_w5Y"
      }
    },
    {
      "cell_type": "code",
      "source": [
        "dev = qml.device(\"default.qubit\", wires = 3)\n",
        "\n",
        "@qml.qnode(dev)\n",
        "def my_state_ket():\n",
        "    qml.Hadamard(wires = 0)\n",
        "    qml.Hadamard(wires = 1)\n",
        "    qml.Hadamard(wires = 2)\n",
        "\n",
        "    return qml.state()"
      ],
      "metadata": {
        "id": "agQh9Jgn7a_w"
      },
      "execution_count": 317,
      "outputs": []
    },
    {
      "cell_type": "code",
      "source": [
        "state = my_state_ket()"
      ],
      "metadata": {
        "id": "DUdO0wX49O21"
      },
      "execution_count": 318,
      "outputs": []
    },
    {
      "cell_type": "code",
      "source": [
        "print(\"My State vector is:\", state)"
      ],
      "metadata": {
        "colab": {
          "base_uri": "https://localhost:8080/"
        },
        "id": "AMPx1dU19WUB",
        "outputId": "e17548ea-1039-4d13-af8c-3bf2cfd29e88"
      },
      "execution_count": 319,
      "outputs": [
        {
          "output_type": "stream",
          "name": "stdout",
          "text": [
            "My State vector is: [0.35355339+0.j 0.35355339+0.j 0.35355339+0.j 0.35355339+0.j\n",
            " 0.35355339+0.j 0.35355339+0.j 0.35355339+0.j 0.35355339+0.j]\n"
          ]
        }
      ]
    },
    {
      "cell_type": "code",
      "source": [
        "sy.Matrix(state)"
      ],
      "metadata": {
        "colab": {
          "base_uri": "https://localhost:8080/",
          "height": 0
        },
        "id": "g79TcF3F6L88",
        "outputId": "375adf2e-ebeb-488b-bbba-ea4fb49cacc6"
      },
      "execution_count": 320,
      "outputs": [
        {
          "output_type": "execute_result",
          "data": {
            "text/plain": [
              "Matrix([\n",
              "[0.353553390593274],\n",
              "[0.353553390593274],\n",
              "[0.353553390593274],\n",
              "[0.353553390593274],\n",
              "[0.353553390593274],\n",
              "[0.353553390593274],\n",
              "[0.353553390593274],\n",
              "[0.353553390593274]])"
            ],
            "text/latex": "$\\displaystyle \\left[\\begin{matrix}0.353553390593274\\\\0.353553390593274\\\\0.353553390593274\\\\0.353553390593274\\\\0.353553390593274\\\\0.353553390593274\\\\0.353553390593274\\\\0.353553390593274\\end{matrix}\\right]$"
          },
          "metadata": {},
          "execution_count": 320
        }
      ]
    },
    {
      "cell_type": "code",
      "source": [
        "print_state_ket(state)"
      ],
      "metadata": {
        "colab": {
          "base_uri": "https://localhost:8080/"
        },
        "id": "cmh2Jyju9azh",
        "outputId": "6b997683-a92f-4c0a-a08c-4828d4eabb83"
      },
      "execution_count": 321,
      "outputs": [
        {
          "output_type": "stream",
          "name": "stdout",
          "text": [
            "|ψ⟩ = (+0.354+0.000j)|000⟩ +\n",
            "    (+0.354+0.000j)|001⟩ +\n",
            "    (+0.354+0.000j)|010⟩ +\n",
            "    (+0.354+0.000j)|011⟩ +\n",
            "    (+0.354+0.000j)|100⟩ +\n",
            "    (+0.354+0.000j)|101⟩ +\n",
            "    (+0.354+0.000j)|110⟩ +\n",
            "    (+0.354+0.000j)|111⟩\n"
          ]
        }
      ]
    },
    {
      "cell_type": "code",
      "source": [
        "# infer number of qubits and make |...⟩ labels\n",
        "num_wires = int(np.log2(len(state)))\n",
        "labels = [f\"|{i:0{num_wires}b}⟩\" for i in range(2**num_wires)]\n",
        "\n",
        "# probabilities\n",
        "probs = np.abs(state)**2\n",
        "\n",
        "# bar chart with ket notation on x-axis\n",
        "plt.bar(labels, probs)\n",
        "plt.xlabel(\"Basis state (ket)\")\n",
        "plt.ylabel(\"Probability\")\n",
        "plt.title(\"Measurement outcome probabilities\")\n",
        "plt.xticks(rotation=45)\n",
        "plt.ylim(0, 1)  # optional\n",
        "plt.tight_layout()\n",
        "plt.show()"
      ],
      "metadata": {
        "colab": {
          "base_uri": "https://localhost:8080/",
          "height": 0
        },
        "id": "fgdcwleZBIy1",
        "outputId": "51a4c27f-4b2b-460b-de2f-d91af4cc8153"
      },
      "execution_count": 322,
      "outputs": [
        {
          "output_type": "display_data",
          "data": {
            "text/plain": [
              "<Figure size 640x480 with 1 Axes>"
            ],
            "image/png": "[encoded data removed]"
          },
          "metadata": {}
        }
      ]
    },
    {
      "cell_type": "markdown",
      "source": [
        "---\n",
        "---"
      ],
      "metadata": {
        "id": "Ka-Ga-876fu2"
      }
    },
    {
      "cell_type": "markdown",
      "source": [
        "##Second example: The famous GHZ (Greenberger–Horne–Zeilinger) state\n",
        "https://en.wikipedia.org/wiki/Greenberger%E2%80%93Horne%E2%80%93Zeilinger_state"
      ],
      "metadata": {
        "id": "2I628joDwjQ3"
      }
    },
    {
      "cell_type": "markdown",
      "source": [
        "GHZ State Derivation for `H(0) → CNOT(0→1) → CNOT(1→2)`\n",
        "\n",
        "We label qubits by wire index and write basis states as $|q_0\\,q_1\\,q_2\\rangle$.  \n",
        "Initial state (PennyLane default): $|\\psi_0\\rangle = |000\\rangle$.\n",
        "\n",
        "---\n",
        "\n",
        "### 1) Apply $H$ on wire 0\n",
        "Using $H|0\\rangle = \\frac{|0\\rangle+|1\\rangle}{\\sqrt{2}}$,\n",
        "\n",
        "$$\n",
        "|\\psi_1\\rangle\n",
        "= \\left(\\frac{|0\\rangle_0 + |1\\rangle_0}{\\sqrt{2}}\\right)|0\\rangle_1|0\\rangle_2\n",
        "= \\frac{|000\\rangle + |100\\rangle}{\\sqrt{2}}.\n",
        "$$\n",
        "\n",
        "---\n",
        "\n",
        "### 2) Apply $\\mathrm{CNOT}(0\\!\\to\\!1)$\n",
        "Control $q_0$, target $q_1$. Flip $q_1$ iff $q_0=1$:\n",
        "\n",
        "$$\n",
        "|000\\rangle \\mapsto |000\\rangle, \\quad\n",
        "|100\\rangle \\mapsto |110\\rangle.\n",
        "$$\n",
        "\n",
        "So,\n",
        "$$\n",
        "|\\psi_2\\rangle = \\frac{|000\\rangle + |110\\rangle}{\\sqrt{2}}.\n",
        "$$\n",
        "\n",
        "---\n",
        "\n",
        "### 3) Apply $\\mathrm{CNOT}(1\\!\\to\\!2)$\n",
        "Control $q_1$, target $q_2$. Flip $q_2$ iff $q_1=1$:\n",
        "\n",
        "$$\n",
        "|000\\rangle \\mapsto |000\\rangle \\quad (q_1=0),\n",
        "\\quad\n",
        "|110\\rangle \\mapsto |111\\rangle \\quad (q_1=1).\n",
        "$$\n",
        "\n",
        "Thus,\n",
        "$$\n",
        "|\\psi_{\\text{final}}\\rangle = \\frac{|000\\rangle + |111\\rangle}{\\sqrt{2}}.\n",
        "$$\n",
        "\n",
        "---\n",
        "\n",
        "### Result (GHZ State)\n",
        "\n",
        "$$\n",
        "|\\mathrm{GHZ}_3\\rangle = \\frac{|000\\rangle + |111\\rangle}{\\sqrt{2}}\n",
        "$$"
      ],
      "metadata": {
        "id": "Mv_Kmv9Tajxg"
      }
    },
    {
      "cell_type": "code",
      "source": [
        "dev = qml.device(\"default.qubit\", wires=3)\n",
        "\n",
        "@qml.qnode(dev)\n",
        "def my_state_ket_2():\n",
        "    qml.Hadamard(wires=0)\n",
        "    qml.CNOT(wires=[0, 1])\n",
        "    qml.CNOT(wires=[1, 2])\n",
        "\n",
        "    # Return both probabilities and state\n",
        "    return qml.probs(wires=range(3)), qml.state()\n",
        "\n",
        "# Run the circuit\n",
        "probs, state = my_state_ket_2()\n",
        "\n",
        "print(\"State vector:\", state)\n",
        "print()\n",
        "print(\"Probabilities:\", probs)"
      ],
      "metadata": {
        "colab": {
          "base_uri": "https://localhost:8080/"
        },
        "id": "VzVHObY5i24a",
        "outputId": "e18f8ba6-f4be-4841-d0b9-4b5ae6945e49"
      },
      "execution_count": 323,
      "outputs": [
        {
          "output_type": "stream",
          "name": "stdout",
          "text": [
            "State vector: [0.70710678+0.j 0.        +0.j 0.        +0.j 0.        +0.j\n",
            " 0.        +0.j 0.        +0.j 0.        +0.j 0.70710678+0.j]\n",
            "\n",
            "Probabilities: [0.5 0.  0.  0.  0.  0.  0.  0.5]\n"
          ]
        }
      ]
    },
    {
      "cell_type": "code",
      "source": [
        "dev = qml.device(\"default.qubit\", wires = 3)\n",
        "\n",
        "@qml.qnode(dev)\n",
        "def my_state_ket_2():\n",
        "    qml.Hadamard(wires = 0)\n",
        "    qml.CNOT(wires = [0, 1])\n",
        "    qml.CNOT(wires = [1, 2])\n",
        "\n",
        "    return qml.state()"
      ],
      "metadata": {
        "id": "BSIb3gih99cS"
      },
      "execution_count": 324,
      "outputs": []
    },
    {
      "cell_type": "code",
      "source": [
        "state2 = my_state_ket_2()    # Complex amplitudes\n",
        "print(\"My State vector is:\", state2)"
      ],
      "metadata": {
        "colab": {
          "base_uri": "https://localhost:8080/"
        },
        "id": "ATqHBp-y-XQe",
        "outputId": "aefb45c4-38d3-4c61-8971-5d2df1f44df8"
      },
      "execution_count": 325,
      "outputs": [
        {
          "output_type": "stream",
          "name": "stdout",
          "text": [
            "My State vector is: [0.70710678+0.j 0.        +0.j 0.        +0.j 0.        +0.j\n",
            " 0.        +0.j 0.        +0.j 0.        +0.j 0.70710678+0.j]\n"
          ]
        }
      ]
    },
    {
      "cell_type": "code",
      "source": [
        "print_state_ket(state2)"
      ],
      "metadata": {
        "colab": {
          "base_uri": "https://localhost:8080/"
        },
        "id": "8kH0JFsD-XZ4",
        "outputId": "de5eb301-24cc-48ba-80ba-7143d5468987"
      },
      "execution_count": 326,
      "outputs": [
        {
          "output_type": "stream",
          "name": "stdout",
          "text": [
            "|ψ⟩ = (+0.707+0.000j)|000⟩ +\n",
            "    (+0.707+0.000j)|111⟩\n"
          ]
        }
      ]
    },
    {
      "cell_type": "code",
      "source": [
        "# Number of qubits and ket labels\n",
        "num_wires = int(np.log2(len(state2)))\n",
        "labels = [f\"|{i:0{num_wires}b}⟩\" for i in range(2**num_wires)]\n",
        "\n",
        "# Compute probabilities\n",
        "probs = np.abs(state2)**2\n",
        "\n",
        "# Plot histogram\n",
        "plt.bar(labels, probs)\n",
        "plt.xlabel(\"Basis state (ket)\")\n",
        "plt.ylabel(\"Probability\")\n",
        "plt.title(\"Measurement outcome probabilities for GHZ circuit\")\n",
        "plt.ylim(0, 1)\n",
        "plt.show()"
      ],
      "metadata": {
        "colab": {
          "base_uri": "https://localhost:8080/",
          "height": 0
        },
        "id": "tloX7BUA_Roh",
        "outputId": "11a2523d-41b9-4b65-93c9-c13767ee94e6"
      },
      "execution_count": 327,
      "outputs": [
        {
          "output_type": "display_data",
          "data": {
            "text/plain": [
              "<Figure size 640x480 with 1 Axes>"
            ],
            "image/png": "[encoded data removed]"
          },
          "metadata": {}
        }
      ]
    },
    {
      "cell_type": "markdown",
      "source": [
        "## Codercise A.1.1 — Create a uniform superposition"
      ],
      "metadata": {
        "id": "QqEBoVRbabei"
      }
    },
    {
      "cell_type": "code",
      "source": [
        "n_bits = 4\n",
        "dev = qml.device(\"default.qubit\", wires=n_bits)\n",
        "\n",
        "@qml.qnode(dev)\n",
        "def naive_circuit():\n",
        "    \"\"\"Create a uniform superposition and return the probabilities.\n",
        "\n",
        "    Returns:\n",
        "        array[float]: Probabilities for observing different outcomes.\n",
        "    \"\"\"\n",
        "    for wire in range(n_bits):\n",
        "        qml.Hadamard(wires=wire)   # Apply Hadamard to each qubit\n",
        "\n",
        "    return qml.probs(wires=range(n_bits))"
      ],
      "metadata": {
        "id": "bsWkdt0LacGA"
      },
      "execution_count": 328,
      "outputs": []
    },
    {
      "cell_type": "code",
      "source": [
        "# Run the circuit\n",
        "probs = naive_circuit()\n",
        "print(probs)"
      ],
      "metadata": {
        "colab": {
          "base_uri": "https://localhost:8080/"
        },
        "id": "WpvL_-p67CV3",
        "outputId": "e00b8da4-49fa-4c28-f03e-1388608cd85d"
      },
      "execution_count": 329,
      "outputs": [
        {
          "output_type": "stream",
          "name": "stdout",
          "text": [
            "[0.0625 0.0625 0.0625 0.0625 0.0625 0.0625 0.0625 0.0625 0.0625 0.0625\n",
            " 0.0625 0.0625 0.0625 0.0625 0.0625 0.0625]\n"
          ]
        }
      ]
    },
    {
      "cell_type": "code",
      "source": [
        "@qml.qnode(dev)\n",
        "def naive_circuit_state():\n",
        "    \"\"\"Create a uniform superposition and return the probabilities.\n",
        "\n",
        "    Returns:\n",
        "        array[float]: State\n",
        "    \"\"\"\n",
        "    for wire in range(n_bits):\n",
        "        qml.Hadamard(wires=wire)   # Apply Hadamard to each qubit\n",
        "\n",
        "    return qml.state()"
      ],
      "metadata": {
        "id": "XRZ2QsFj6-1I"
      },
      "execution_count": 330,
      "outputs": []
    },
    {
      "cell_type": "code",
      "source": [
        "state = naive_circuit_state()\n",
        "print(state)"
      ],
      "metadata": {
        "colab": {
          "base_uri": "https://localhost:8080/"
        },
        "id": "jipE5w4Yah-W",
        "outputId": "41e90a15-8dfb-4d49-c624-7fa741fc189e"
      },
      "execution_count": 331,
      "outputs": [
        {
          "output_type": "stream",
          "name": "stdout",
          "text": [
            "[0.25+0.j 0.25+0.j 0.25+0.j 0.25+0.j 0.25+0.j 0.25+0.j 0.25+0.j 0.25+0.j\n",
            " 0.25+0.j 0.25+0.j 0.25+0.j 0.25+0.j 0.25+0.j 0.25+0.j 0.25+0.j 0.25+0.j]\n"
          ]
        }
      ]
    },
    {
      "cell_type": "code",
      "source": [
        "# Run the circuit\n",
        "probs = naive_circuit()\n",
        "\n",
        "# Plot with the new function\n",
        "plot_probabilities(probs, 4, title=\"Uniform Superposition for 4 qubits\")"
      ],
      "metadata": {
        "colab": {
          "base_uri": "https://localhost:8080/",
          "height": 0
        },
        "id": "67OzPhVMdLGK",
        "outputId": "d3eb50d9-21df-433d-a3f8-07c1f8abbe82"
      },
      "execution_count": 332,
      "outputs": [
        {
          "output_type": "display_data",
          "data": {
            "text/plain": [
              "<Figure size 1200x600 with 1 Axes>"
            ],
            "image/png": "[encoded data removed]"
          },
          "metadata": {}
        }
      ]
    },
    {
      "cell_type": "markdown",
      "source": [
        "---\n",
        "---"
      ],
      "metadata": {
        "id": "e_4obFhs7V60"
      }
    },
    {
      "cell_type": "markdown",
      "source": [
        "## Measurements in PennyLane (1)\n",
        "https://pennylane.ai/codebook/pennylane-fundamentals/measurements-in-pennylane"
      ],
      "metadata": {
        "id": "gIPt43ZB8RAh"
      }
    },
    {
      "cell_type": "code",
      "source": [
        "# Samples\n",
        "\n",
        "dev = qml.device(\"default.qubit\", wires = 1, shots = 20)\n",
        "\n",
        "@qml.qnode(dev)\n",
        "def circuit():\n",
        "    qml.Hadamard(wires = 0)\n",
        "    return qml.sample()\n",
        "print(circuit())"
      ],
      "metadata": {
        "colab": {
          "base_uri": "https://localhost:8080/"
        },
        "id": "YlymIzBI8eac",
        "outputId": "4abca46e-0bb7-4e50-cf06-11612912ba4b"
      },
      "execution_count": 333,
      "outputs": [
        {
          "output_type": "stream",
          "name": "stdout",
          "text": [
            "[0 0 1 1 1 1 1 0 0 0 0 0 0 0 0 1 0 1 0 0]\n"
          ]
        }
      ]
    },
    {
      "cell_type": "code",
      "source": [
        "# Counts\n",
        "\n",
        "dev = qml.device(\"default.qubit\", wires = 2, shots = 1000)\n",
        "\n",
        "@qml.qnode(dev)\n",
        "def circuit_counts():\n",
        "    qml.Hadamard(wires = 0)\n",
        "    qml.Hadamard(wires = 1)\n",
        "    return qml.counts()\n",
        "print(circuit_counts())"
      ],
      "metadata": {
        "colab": {
          "base_uri": "https://localhost:8080/"
        },
        "id": "jzp6JWVw8emD",
        "outputId": "58d6597b-e52c-496d-c777-b182140313e9"
      },
      "execution_count": 334,
      "outputs": [
        {
          "output_type": "stream",
          "name": "stdout",
          "text": [
            "{np.str_('00'): np.int64(237), np.str_('01'): np.int64(255), np.str_('10'): np.int64(266), np.str_('11'): np.int64(242)}\n"
          ]
        }
      ]
    },
    {
      "cell_type": "code",
      "source": [
        "# Probabilities\n",
        "\n",
        "dev = qml.device(\"default.qubit\", wires = 2) # No shots means analytical calculation\n",
        "\n",
        "@qml.qnode(dev)\n",
        "def simple_circuit():\n",
        "\n",
        "    qml.Hadamard(wires = 0)\n",
        "    qml.Hadamard(wires = 1)\n",
        "\n",
        "    return qml.probs() # Computational basis measurement"
      ],
      "metadata": {
        "id": "V1-qgNfF9H3b"
      },
      "execution_count": 335,
      "outputs": []
    },
    {
      "cell_type": "code",
      "source": [
        "simple_circuit()"
      ],
      "metadata": {
        "colab": {
          "base_uri": "https://localhost:8080/"
        },
        "id": "f7KDOIZk9IBp",
        "outputId": "95b9ca1d-9896-41a7-8bfa-76252260e637"
      },
      "execution_count": 336,
      "outputs": [
        {
          "output_type": "execute_result",
          "data": {
            "text/plain": [
              "array([0.25, 0.25, 0.25, 0.25])"
            ]
          },
          "metadata": {},
          "execution_count": 336
        }
      ]
    },
    {
      "cell_type": "code",
      "source": [
        "# State\n",
        "\n",
        "dev = qml.device(\"default.qubit\", wires = 2) # No shots means analytical calculation\n",
        "\n",
        "@qml.qnode(dev)\n",
        "def simple_circuit():\n",
        "\n",
        "    qml.Hadamard(wires = 0)\n",
        "    qml.Hadamard(wires = 1)\n",
        "\n",
        "    return qml.state() # Computational basis measurement"
      ],
      "metadata": {
        "id": "uvnULX929bGF"
      },
      "execution_count": 337,
      "outputs": []
    },
    {
      "cell_type": "code",
      "source": [
        "simple_circuit()"
      ],
      "metadata": {
        "colab": {
          "base_uri": "https://localhost:8080/"
        },
        "id": "9Z7MqbSp9xiE",
        "outputId": "30edb8bf-5b70-40f0-dd86-bc19159fe017"
      },
      "execution_count": 338,
      "outputs": [
        {
          "output_type": "execute_result",
          "data": {
            "text/plain": [
              "array([0.5+0.j, 0.5+0.j, 0.5+0.j, 0.5+0.j])"
            ]
          },
          "metadata": {},
          "execution_count": 338
        }
      ]
    },
    {
      "cell_type": "code",
      "source": [
        "sy.Matrix(simple_circuit())"
      ],
      "metadata": {
        "colab": {
          "base_uri": "https://localhost:8080/",
          "height": 98
        },
        "id": "oSfkO5zl95Yg",
        "outputId": "ba753bef-54e1-48bf-92d9-8e7e3db0ce82"
      },
      "execution_count": 339,
      "outputs": [
        {
          "output_type": "execute_result",
          "data": {
            "text/plain": [
              "Matrix([\n",
              "[0.5],\n",
              "[0.5],\n",
              "[0.5],\n",
              "[0.5]])"
            ],
            "text/latex": "$\\displaystyle \\left[\\begin{matrix}0.5\\\\0.5\\\\0.5\\\\0.5\\end{matrix}\\right]$"
          },
          "metadata": {},
          "execution_count": 339
        }
      ]
    },
    {
      "cell_type": "code",
      "source": [
        "print_state_ket(simple_circuit())"
      ],
      "metadata": {
        "colab": {
          "base_uri": "https://localhost:8080/"
        },
        "id": "yR3K1of999ne",
        "outputId": "fd80b8cf-097f-4a78-ca2e-dceba6ab9926"
      },
      "execution_count": 340,
      "outputs": [
        {
          "output_type": "stream",
          "name": "stdout",
          "text": [
            "|ψ⟩ = (+0.500+0.000j)|00⟩ +\n",
            "    (+0.500+0.000j)|01⟩ +\n",
            "    (+0.500+0.000j)|10⟩ +\n",
            "    (+0.500+0.000j)|11⟩\n"
          ]
        }
      ]
    },
    {
      "cell_type": "markdown",
      "source": [
        "## Subcircuits & qml.specs()\n",
        "Quantum functions that do not return anything can be used as subcircuits—smaller pieces that build up to a larger circuit.\n",
        "\n",
        "https://pennylane.ai/codebook/pennylane-fundamentals/circuits-and-qnodes\n",
        "\n",
        "https://docs.pennylane.ai/en/stable/code/api/pennylane.specs.html"
      ],
      "metadata": {
        "id": "Qf_QEZQxTQ2l"
      }
    },
    {
      "cell_type": "code",
      "source": [
        "def subcircuit_1(angle):\n",
        "\n",
        "    qml.RX(angle, wires = 0)\n",
        "    qml.PauliY(wires = 1)\n",
        "    qml.CZ(wires = [0,1])"
      ],
      "metadata": {
        "id": "JNbobjHW1-ga"
      },
      "execution_count": 341,
      "outputs": []
    },
    {
      "cell_type": "code",
      "source": [
        "def subcircuit_2():\n",
        "\n",
        "    qml.Hadamard(wires = 0)\n",
        "    qml.CNOT(wires = [0,1])\n",
        "    qml.SWAP(wires = [0,1])"
      ],
      "metadata": {
        "id": "2fKXsuJP1_gQ"
      },
      "execution_count": 342,
      "outputs": []
    },
    {
      "cell_type": "code",
      "source": [
        "def full_circuit(theta, phi):\n",
        "\n",
        "    subcircuit_1(theta)\n",
        "    qml.Barrier()\n",
        "    subcircuit_2()\n",
        "    qml.Barrier()\n",
        "    subcircuit_1(phi)"
      ],
      "metadata": {
        "id": "Z8eh2xQJ1_jo"
      },
      "execution_count": 343,
      "outputs": []
    },
    {
      "cell_type": "code",
      "source": [
        "theta = 0.3\n",
        "phi = 0.2\n",
        "\n",
        "draw_mpl(full_circuit , style=\"pennylane\" )(theta,phi);"
      ],
      "metadata": {
        "colab": {
          "base_uri": "https://localhost:8080/",
          "height": 337
        },
        "id": "5NYkTQyU1_oO",
        "outputId": "2e266583-3a2e-419e-dbbe-f579e7497bc5"
      },
      "execution_count": 344,
      "outputs": [
        {
          "output_type": "display_data",
          "data": {
            "text/plain": [
              "<Figure size 1200x300 with 1 Axes>"
            ],
            "image/png": "[encoded data removed]"
          },
          "metadata": {}
        }
      ]
    },
    {
      "cell_type": "code",
      "source": [
        "specs_func = qml.specs(full_circuit)"
      ],
      "metadata": {
        "id": "eMmt8hZCg-e3"
      },
      "execution_count": 345,
      "outputs": []
    },
    {
      "cell_type": "code",
      "source": [
        "# Turn into a QNode\n",
        "qnode = qml.QNode(full_circuit, dev)\n",
        "\n",
        "# --- See circuit specs ---\n",
        "info = qml.specs(qnode)(0.3, 0.2)  # example inputs\n",
        "print(info)"
      ],
      "metadata": {
        "colab": {
          "base_uri": "https://localhost:8080/"
        },
        "id": "p7Rh-Vp8hUTQ",
        "outputId": "caf0c620-f02b-47a1-b078-9814069a82bd"
      },
      "execution_count": 346,
      "outputs": [
        {
          "output_type": "stream",
          "name": "stdout",
          "text": [
            "{'resources': Resources(num_wires=2, num_gates=11, gate_types=defaultdict(<class 'int'>, {'RX': 2, 'PauliY': 2, 'CZ': 2, 'Barrier': 2, 'Hadamard': 1, 'CNOT': 1, 'SWAP': 1}), gate_sizes=defaultdict(<class 'int'>, {1: 5, 2: 4, 0: 2}), depth=9, shots=Shots(total_shots=None, shot_vector=())), 'errors': {}, 'num_observables': 0, 'num_trainable_params': 0, 'num_device_wires': 2, 'num_tape_wires': 2, 'device_name': 'default.qubit', 'level': 'gradient', 'gradient_options': {}, 'interface': 'auto', 'diff_method': 'best', 'gradient_fn': 'backprop'}\n"
          ]
        }
      ]
    },
    {
      "cell_type": "markdown",
      "source": [
        "## Controlled-Unitaries\n",
        "https://pennylane.ai/codebook/pennylane-fundamentals/quantum-operations"
      ],
      "metadata": {
        "id": "DkZ3WMAl3LBZ"
      }
    },
    {
      "cell_type": "code",
      "source": [
        "# qml.ctrl : If the gate  exists as a PennyLane operator, we can use the qml.ctrl function\n",
        "\n",
        "dev = qml.device(\"default.qubit\", wires = 2)\n",
        "\n",
        "@qml.qnode(dev)\n",
        "def controlled_gate_circuit(angle):\n",
        "   qml.Hadamard(0)\n",
        "   qml.ctrl(qml.RX, control = (0), control_values=(1))(angle, wires=[1])\n",
        "   qml.Hadamard(0)\n",
        "   qml.ctrl(qml.RX, control = (1), control_values=(0))(angle, wires=[0])\n",
        "   # Controlled RX\n",
        "   return qml.state()"
      ],
      "metadata": {
        "id": "TS8q8s9o3XZ4"
      },
      "execution_count": 347,
      "outputs": []
    },
    {
      "cell_type": "code",
      "source": [
        "controlled_gate_circuit(0.3)"
      ],
      "metadata": {
        "colab": {
          "base_uri": "https://localhost:8080/"
        },
        "id": "8KoHopv44VZf",
        "outputId": "1f20c79a-7e0b-4d22-efb1-80b94842ce72"
      },
      "execution_count": 348,
      "outputs": [
        {
          "output_type": "execute_result",
          "data": {
            "text/plain": [
              "array([0.98321966-0.00083901j, 0.        -0.07471907j,\n",
              "       0.00555142-0.14859912j, 0.        +0.07471907j])"
            ]
          },
          "metadata": {},
          "execution_count": 348
        }
      ]
    },
    {
      "cell_type": "code",
      "source": [
        "draw_mpl(controlled_gate_circuit , style=\"pennylane\" )(0.3);"
      ],
      "metadata": {
        "colab": {
          "base_uri": "https://localhost:8080/",
          "height": 337
        },
        "id": "59KWS7ze3Xm9",
        "outputId": "e12db0d4-3c6b-40de-af00-d65d807f62a0"
      },
      "execution_count": 349,
      "outputs": [
        {
          "output_type": "display_data",
          "data": {
            "text/plain": [
              "<Figure size 700x300 with 1 Axes>"
            ],
            "image/png": "[encoded data removed]"
          },
          "metadata": {}
        }
      ]
    },
    {
      "cell_type": "markdown",
      "source": [
        "---\n",
        "---\n",
        "### qml.ControlledQubitUnitary : If, instead, we are given the matrix  of the controlled unitary to be applied, we can use qml.ControlledQubitUnitary"
      ],
      "metadata": {
        "id": "2djYokBv48mA"
      }
    },
    {
      "cell_type": "code",
      "source": [
        "U = np.array([[ 0.94877869,  0.31594146], [-0.31594146,  0.94877869]])\n",
        "U"
      ],
      "metadata": {
        "colab": {
          "base_uri": "https://localhost:8080/"
        },
        "id": "R-2cAhYZ5gvb",
        "outputId": "62547b97-e3ac-485d-a103-58c539a000ea"
      },
      "execution_count": 350,
      "outputs": [
        {
          "output_type": "execute_result",
          "data": {
            "text/plain": [
              "array([[ 0.94877869,  0.31594146],\n",
              "       [-0.31594146,  0.94877869]])"
            ]
          },
          "metadata": {},
          "execution_count": 350
        }
      ]
    },
    {
      "cell_type": "code",
      "source": [
        "dev = qml.device(\"default.qubit\", wires = 4)\n",
        "\n",
        "U =[[ 0.94877869,  0.31594146], [-0.31594146,  0.94877869]]\n",
        "\n",
        "@qml.qnode(dev)\n",
        "def circuit_controlled_unitary():\n",
        "\n",
        "  qml.Hadamard(wires = 1)\n",
        "  qml.ControlledQubitUnitary(U, wires=[0, 1, 3 ,2], control_values=[1, 0, 1])\n",
        "  return qml.state()\n",
        "\n",
        "print(circuit_controlled_unitary())"
      ],
      "metadata": {
        "colab": {
          "base_uri": "https://localhost:8080/"
        },
        "id": "LlPvAzLH3Xqp",
        "outputId": "e869dcfd-31a4-467a-f223-a4e62e6ce234"
      },
      "execution_count": 351,
      "outputs": [
        {
          "output_type": "stream",
          "name": "stdout",
          "text": [
            "[0.70710678+0.j 0.        +0.j 0.        +0.j 0.        +0.j\n",
            " 0.70710678+0.j 0.        +0.j 0.        +0.j 0.        +0.j\n",
            " 0.        +0.j 0.        +0.j 0.        +0.j 0.        +0.j\n",
            " 0.        +0.j 0.        +0.j 0.        +0.j 0.        +0.j]\n"
          ]
        }
      ]
    },
    {
      "cell_type": "code",
      "source": [
        "draw_mpl(circuit_controlled_unitary , style=\"pennylane\" )();"
      ],
      "metadata": {
        "colab": {
          "base_uri": "https://localhost:8080/",
          "height": 536
        },
        "id": "WWu66c3m5T0X",
        "outputId": "e0aa3042-bc47-4e4a-b51b-7ce213cfdae5"
      },
      "execution_count": 352,
      "outputs": [
        {
          "output_type": "display_data",
          "data": {
            "text/plain": [
              "<Figure size 500x500 with 1 Axes>"
            ],
            "image/png": "[encoded data removed]"
          },
          "metadata": {}
        }
      ]
    },
    {
      "cell_type": "markdown",
      "source": [
        "## Quantum Teleportation\n",
        "https://pennylane.ai/qml/demos/tutorial_teleportation\n",
        "\n",
        "https://quantum.country/teleportation\n",
        "<br>\n",
        "\n",
        "Quantum state preparation\n",
        "https://pennylane.ai/codebook/pennylane-fundamentals/quantum-operations\n",
        "qml.StatePrep    \n",
        "<br>\n",
        "qml.cond(condition, op)(*args) applies the quantum operation \"op\"\n",
        "only if the given classical measurement condition is satisfied.\n",
        "https://docs.pennylane.ai/en/stable/code/api/pennylane.cond.html#pennylane.cond   "
      ],
      "metadata": {
        "id": "TeD4evhtuzIf"
      }
    },
    {
      "cell_type": "code",
      "source": [
        "dev = qml.device(\"default.qubit\", wires=[\"S\", \"A\", \"B\"])"
      ],
      "metadata": {
        "id": "7tx5ffCt2T05"
      },
      "execution_count": 353,
      "outputs": []
    },
    {
      "cell_type": "code",
      "source": [
        "# state_preparation puts Alice’s source qubit S in the unknown state\n",
        "\n",
        "def state_preparation(state):\n",
        "    qml.StatePrep(state, wires=[\"S\"])"
      ],
      "metadata": {
        "id": "GaUHiJBqoxKh"
      },
      "execution_count": 354,
      "outputs": []
    },
    {
      "cell_type": "code",
      "source": [
        "# entangle_qubits creates an EPR pair between A and B (H on A, then CNOT A→B).\n",
        "\n",
        "def entangle_qubits():\n",
        "    qml.Hadamard(wires=\"A\")\n",
        "    qml.CNOT(wires=[\"A\", \"B\"])"
      ],
      "metadata": {
        "id": "KGeDngLPu53V"
      },
      "execution_count": 355,
      "outputs": []
    },
    {
      "cell_type": "code",
      "source": [
        "# basis_rotation performs the Bell-basis measurement step on S and A (CNOT S→A, H on S).\n",
        "\n",
        "def basis_rotation():\n",
        "    qml.CNOT(wires=[\"S\", \"A\"])\n",
        "    qml.Hadamard(wires=\"S\")"
      ],
      "metadata": {
        "id": "GCXyVkuYu552"
      },
      "execution_count": 356,
      "outputs": []
    },
    {
      "cell_type": "code",
      "source": [
        "# measure_and_update measures S and A, then applies the classical corrections on B:\n",
        "# apply X if  𝑚1 = 1 and Z if 𝑚0 = 1.\n",
        "\n",
        "def measure_and_update():\n",
        "    m0 = qml.measure(\"S\")\n",
        "    m1 = qml.measure(\"A\")\n",
        "    qml.cond(m1, qml.PauliX)(\"B\")\n",
        "    qml.cond(m0, qml.PauliZ)(\"B\")"
      ],
      "metadata": {
        "id": "vbtZCczfu58d"
      },
      "execution_count": 357,
      "outputs": []
    },
    {
      "cell_type": "code",
      "source": [
        "@qml.qnode(dev)\n",
        "\n",
        "def teleport(state):\n",
        "    state_preparation(state)\n",
        "    qml.Barrier()\n",
        "    entangle_qubits()\n",
        "    qml.Barrier()\n",
        "    basis_rotation()\n",
        "    qml.Barrier()\n",
        "    measure_and_update()"
      ],
      "metadata": {
        "id": "G7G2lnYXy9cp"
      },
      "execution_count": 358,
      "outputs": []
    },
    {
      "cell_type": "code",
      "source": [
        "state = np.array([1 / np.sqrt(2) + 0.3j, 0.4 - 0.5j])\n",
        "sy.Matrix(state)"
      ],
      "metadata": {
        "colab": {
          "base_uri": "https://localhost:8080/",
          "height": 58
        },
        "id": "nJZJS0SozOQg",
        "outputId": "071a330b-1090-4a4c-9331-8cdf248de173"
      },
      "execution_count": 359,
      "outputs": [
        {
          "output_type": "execute_result",
          "data": {
            "text/plain": [
              "Matrix([\n",
              "[0.707106781186547 + 0.3*I],\n",
              "[              0.4 - 0.5*I]])"
            ],
            "text/latex": "$\\displaystyle \\left[\\begin{matrix}0.707106781186547 + 0.3 i\\\\0.4 - 0.5 i\\end{matrix}\\right]$"
          },
          "metadata": {},
          "execution_count": 359
        }
      ]
    },
    {
      "cell_type": "code",
      "source": [
        "_ = qml.draw_mpl(teleport, style=\"pennylane\")(state)"
      ],
      "metadata": {
        "colab": {
          "base_uri": "https://localhost:8080/",
          "height": 466
        },
        "id": "VtrwrKHYNTI1",
        "outputId": "98c7b1cf-6966-4102-e15e-7c97e8f41f2c"
      },
      "execution_count": 360,
      "outputs": [
        {
          "output_type": "display_data",
          "data": {
            "text/plain": [
              "<Figure size 1500x500 with 1 Axes>"
            ],
            "image/png": "[encoded data removed]"
          },
          "metadata": {}
        }
      ]
    },
    {
      "cell_type": "code",
      "source": [
        "norm = np.linalg.norm(state)\n",
        "\n",
        "print(\"Norm:\", norm)\n",
        "print(\"Is normalized?\", np.isclose(norm, 1.0))\n",
        "print()\n",
        "# Probabilities = squared magnitudes\n",
        "probs = np.abs(state)**2\n",
        "\n",
        "print(\"Probabilities:\", probs)\n",
        "print(\"Sum:\", np.sum(probs))  # should be 1.0\n",
        "print(\"Sum:\", round(np.sum(probs), 5))   # rounded to 5 decimals"
      ],
      "metadata": {
        "colab": {
          "base_uri": "https://localhost:8080/"
        },
        "id": "GaeGAFgQN1kX",
        "outputId": "74ca2064-526a-462d-fe51-a8e234cd6256"
      },
      "execution_count": 361,
      "outputs": [
        {
          "output_type": "stream",
          "name": "stdout",
          "text": [
            "Norm: 0.9999999999999999\n",
            "Is normalized? True\n",
            "\n",
            "Probabilities: [0.59 0.41]\n",
            "Sum: 0.9999999999999998\n",
            "Sum: 1.0\n"
          ]
        }
      ]
    },
    {
      "cell_type": "markdown",
      "source": [
        "### Density Matrix\n",
        "https://docs.pennylane.ai/en/stable/code/api/pennylane.density_matrix.html\n",
        "\n",
        "https://pennylane.ai/codebook/noisy-quantum-theory\n",
        "\n",
        "### Fidelity\n",
        "\n",
        "https://pennylane.ai/codebook/distance-measures/fidelity\n",
        "\n",
        "https://docs.pennylane.ai/en/stable/code/api/pennylane.math.fidelity.html"
      ],
      "metadata": {
        "id": "Hkvt8GatPw7O"
      }
    },
    {
      "cell_type": "code",
      "source": [
        "@qml.qnode(dev)\n",
        "\n",
        "def teleport_and_get_B(state):\n",
        "    state_preparation(state)\n",
        "    entangle_qubits()\n",
        "    basis_rotation()\n",
        "    measure_and_update()\n",
        "    return qml.density_matrix(\"B\")   # Bob’s final state ρ_B\n",
        "    # return qml.state(wires=\"B\")"
      ],
      "metadata": {
        "id": "G2eXIoLBOANf"
      },
      "execution_count": 362,
      "outputs": []
    },
    {
      "cell_type": "code",
      "source": [
        "bob_state = teleport_and_get_B(state)\n",
        "bob_state"
      ],
      "metadata": {
        "colab": {
          "base_uri": "https://localhost:8080/"
        },
        "id": "HDrzMixybjRr",
        "outputId": "89deb936-adfa-4cef-dbed-3ae71189bca9"
      },
      "execution_count": 363,
      "outputs": [
        {
          "output_type": "execute_result",
          "data": {
            "text/plain": [
              "array([[0.59      +0.j        , 0.13284271+0.47355339j],\n",
              "       [0.13284271-0.47355339j, 0.41      +0.j        ]])"
            ]
          },
          "metadata": {},
          "execution_count": 363
        }
      ]
    },
    {
      "cell_type": "code",
      "source": [
        "sy.Matrix(bob_state)"
      ],
      "metadata": {
        "colab": {
          "base_uri": "https://localhost:8080/",
          "height": 58
        },
        "id": "ph5owpuldiYw",
        "outputId": "883d636a-0a10-46b3-93a3-71aeb65459e5"
      },
      "execution_count": 364,
      "outputs": [
        {
          "output_type": "execute_result",
          "data": {
            "text/plain": [
              "Matrix([\n",
              "[                                   0.59, 0.132842712474619 + 0.473553390593274*I],\n",
              "[0.132842712474619 - 0.473553390593274*I,                                    0.41]])"
            ],
            "text/latex": "$\\displaystyle \\left[\\begin{matrix}0.59 & 0.132842712474619 + 0.473553390593274 i\\\\0.132842712474619 - 0.473553390593274 i & 0.41\\end{matrix}\\right]$"
          },
          "metadata": {},
          "execution_count": 364
        }
      ]
    },
    {
      "cell_type": "code",
      "source": [
        "# Test with our example state\n",
        "state = np.array([1/np.sqrt(2) + 0.3j, 0.4 - 0.5j])"
      ],
      "metadata": {
        "id": "BpnxIXqsYDwN"
      },
      "execution_count": 365,
      "outputs": []
    },
    {
      "cell_type": "code",
      "source": [
        "sy.Matrix(state)"
      ],
      "metadata": {
        "colab": {
          "base_uri": "https://localhost:8080/",
          "height": 58
        },
        "id": "O4q0pFvzYXX1",
        "outputId": "f1e480ce-07cd-4a80-938e-9247b8dec726"
      },
      "execution_count": 366,
      "outputs": [
        {
          "output_type": "execute_result",
          "data": {
            "text/plain": [
              "Matrix([\n",
              "[0.707106781186547 + 0.3*I],\n",
              "[              0.4 - 0.5*I]])"
            ],
            "text/latex": "$\\displaystyle \\left[\\begin{matrix}0.707106781186547 + 0.3 i\\\\0.4 - 0.5 i\\end{matrix}\\right]$"
          },
          "metadata": {},
          "execution_count": 366
        }
      ]
    },
    {
      "cell_type": "code",
      "source": [
        "state_dm = qml.math.dm_from_state_vector(state)\n",
        "state_dm"
      ],
      "metadata": {
        "colab": {
          "base_uri": "https://localhost:8080/"
        },
        "id": "w30N5UqiZzG_",
        "outputId": "901d692a-73d0-434c-bbbd-0e716b8edfb3"
      },
      "execution_count": 367,
      "outputs": [
        {
          "output_type": "execute_result",
          "data": {
            "text/plain": [
              "array([[0.59      +0.j        , 0.13284271+0.47355339j],\n",
              "       [0.13284271-0.47355339j, 0.41      +0.j        ]])"
            ]
          },
          "metadata": {},
          "execution_count": 367
        }
      ]
    },
    {
      "cell_type": "code",
      "source": [
        "sy.Matrix(state_dm)"
      ],
      "metadata": {
        "colab": {
          "base_uri": "https://localhost:8080/",
          "height": 58
        },
        "id": "H9H-sQSaeaFG",
        "outputId": "f4def268-4298-45a1-c63c-50afb8075f5b"
      },
      "execution_count": 368,
      "outputs": [
        {
          "output_type": "execute_result",
          "data": {
            "text/plain": [
              "Matrix([\n",
              "[                                   0.59, 0.132842712474619 + 0.473553390593274*I],\n",
              "[0.132842712474619 - 0.473553390593274*I,                                    0.41]])"
            ],
            "text/latex": "$\\displaystyle \\left[\\begin{matrix}0.59 & 0.132842712474619 + 0.473553390593274 i\\\\0.132842712474619 - 0.473553390593274 i & 0.41\\end{matrix}\\right]$"
          },
          "metadata": {},
          "execution_count": 368
        }
      ]
    },
    {
      "cell_type": "code",
      "source": [
        "# Fidelity between input |ψ> and Bob’s output\n",
        "F = qml.math.fidelity(bob_state, state_dm)\n",
        "print(\"Fidelity:\", F)"
      ],
      "metadata": {
        "colab": {
          "base_uri": "https://localhost:8080/"
        },
        "id": "Mtie9FmPYDyU",
        "outputId": "7772ba9b-bc37-46db-8983-a39fea33c432"
      },
      "execution_count": 369,
      "outputs": [
        {
          "output_type": "stream",
          "name": "stdout",
          "text": [
            "Fidelity: 0.9999999999999998\n"
          ]
        }
      ]
    },
    {
      "cell_type": "markdown",
      "source": [
        "### Deferred measurement (Quantum Teleportation)\n",
        "\n",
        "https://en.wikipedia.org/wiki/Deferred_measurement_principle\n",
        "\n",
        "By moving the measurement to the end, the 2-qubit controlled-X and controlled-Z gates need to be applied, which requires both qubits to be near (i.e. at a distance where 2-qubit quantum effects can be controlled), and thus limits the distance of the teleportation.   \n",
        "While logically equivalent, deferring the measurement have physical implications.\n",
        "\n",
        "Instead of using **classical communication** of measurement results to control local corrections, one must implement **additional quantum two-qubit gates** directly between Alice’s and Bob’s qubits.  \n",
        "This effectively replaces , long-distance classical signals with, short-range quantum interactions."
      ],
      "metadata": {
        "id": "P7ft0aUdKybr"
      }
    },
    {
      "cell_type": "code",
      "source": [
        "dev = qml.device(\"default.qubit\", wires=[\"S\", \"A\", \"B\"])\n",
        "\n",
        "@qml.qnode(dev)\n",
        "def teleport_d(state):\n",
        "    state_preparation(state)\n",
        "    entangle_qubits()\n",
        "    basis_rotation()\n",
        "    #qml.CNOT(wires=[\"A\", \"B\"])  # X on B controlled by A\n",
        "    #qml.CZ(wires=[\"S\", \"B\"])    # Z on B controlled by S\n",
        "\n",
        "    measure_and_update()\n",
        "    return qml.density_matrix(wires=[\"B\"])\n",
        "\n",
        "_ = qml.draw_mpl(teleport_d, style=\"pennylane\", level=\"device\")(state)"
      ],
      "metadata": {
        "colab": {
          "base_uri": "https://localhost:8080/",
          "height": 436
        },
        "id": "TbzCL-QL2fRs",
        "outputId": "37585f2e-95ad-46cb-9790-4ee226e3b78c"
      },
      "execution_count": 370,
      "outputs": [
        {
          "output_type": "display_data",
          "data": {
            "text/plain": [
              "<Figure size 800x400 with 1 Axes>"
            ],
            "image/png": "[encoded data removed]"
          },
          "metadata": {}
        }
      ]
    },
    {
      "cell_type": "code",
      "source": [
        "_ = qml.draw_mpl(teleport, style=\"pennylane\")(state)"
      ],
      "metadata": {
        "colab": {
          "base_uri": "https://localhost:8080/",
          "height": 466
        },
        "id": "G7gqq7kMIX-h",
        "outputId": "0dd7efcc-0476-4a48-9b6b-e019c45502e7"
      },
      "execution_count": 371,
      "outputs": [
        {
          "output_type": "display_data",
          "data": {
            "text/plain": [
              "<Figure size 1500x500 with 1 Axes>"
            ],
            "image/png": "[encoded data removed]"
          },
          "metadata": {}
        }
      ]
    },
    {
      "cell_type": "code",
      "source": [
        "def teleport_state(state):\n",
        "    teleported_density_matrix = teleport_d(state)\n",
        "    original_density_matrix = qml.math.dm_from_state_vector(state)\n",
        "\n",
        "    if not np.allclose(teleported_density_matrix, original_density_matrix):\n",
        "        raise ValueError(\n",
        "            f\"Alice's state ({state}) not teleported properly. \"\n",
        "            f\"Final density matrix of Bob's subsystem: {teleported_density_matrix}\"\n",
        "        )\n",
        "    print(\"State successfully teleported!\")\n",
        "\n",
        "\n",
        "teleport_state(state)"
      ],
      "metadata": {
        "colab": {
          "base_uri": "https://localhost:8080/"
        },
        "id": "oHzROJ8R5MZ_",
        "outputId": "64944cf5-6927-4cbb-bbd5-5153aa200f76"
      },
      "execution_count": 372,
      "outputs": [
        {
          "output_type": "stream",
          "name": "stdout",
          "text": [
            "State successfully teleported!\n"
          ]
        }
      ]
    },
    {
      "cell_type": "markdown",
      "source": [
        "---\n",
        "---"
      ],
      "metadata": {
        "id": "7NY42kuYppS5"
      }
    },
    {
      "cell_type": "markdown",
      "source": [
        "## Measurements in PennyLane (2): Expectation values & Observables\n",
        "\n",
        "https://pennylane.ai/codebook/single-qubit-gates/what-did-you-expect\n",
        "\n",
        "https://pennylane.ai/codebook/pennylane-fundamentals/measurements-in-pennylane\n",
        "\n",
        "\n",
        "with shots = hardware-like sampling, without shots = exact simulation.\n",
        "\n",
        "Codercise I.10.1 — Measurement of the PauliY observable\n",
        "\n",
        "Codercise I.10.2 — Setting up the number of experiment shots\n",
        "\n",
        "Codercise I.10.3 — Evaluating the samples"
      ],
      "metadata": {
        "id": "y6jXylr7pg5E"
      }
    },
    {
      "cell_type": "code",
      "source": [
        "dev = qml.device(\"default.qubit\", wires=1)\n",
        "\n",
        "@qml.qnode(dev)\n",
        "def circuit():\n",
        "    qml.RX(np.pi/4, wires=0)\n",
        "    qml.Hadamard(wires=0)\n",
        "    qml.PauliZ(wires=0)\n",
        "    return qml.expval(qml.PauliY(0))\n",
        "\n",
        "print(circuit())"
      ],
      "metadata": {
        "colab": {
          "base_uri": "https://localhost:8080/"
        },
        "id": "Nqi5Tl2jLm6n",
        "outputId": "04aad367-50b6-42d2-d507-e2377fb35cae"
      },
      "execution_count": 373,
      "outputs": [
        {
          "output_type": "stream",
          "name": "stdout",
          "text": [
            "-0.7071067811865471\n"
          ]
        }
      ]
    },
    {
      "cell_type": "code",
      "source": [
        "# An array to store your results\n",
        "shot_results = []\n",
        "\n",
        "# Different numbers of shots\n",
        "shot_values = [100, 1000, 10000, 100000, 1000000]\n",
        "\n",
        "for shots in shot_values:\n",
        "    # Create device with given number of shots\n",
        "    dev = qml.device(\"default.qubit\", wires=1, shots=shots)\n",
        "\n",
        "    @qml.qnode(dev)\n",
        "    def circuit():\n",
        "        qml.RX(np.pi/4, wires=0)\n",
        "        qml.Hadamard(wires=0)\n",
        "        qml.PauliZ(wires=0)\n",
        "        return qml.expval(qml.PauliY(0))\n",
        "\n",
        "    # Run the circuit and store result\n",
        "    shot_results.append(circuit())\n",
        "\n",
        "print(qml.math.unwrap(shot_results))"
      ],
      "metadata": {
        "colab": {
          "base_uri": "https://localhost:8080/"
        },
        "id": "HBiwxS0nLnOY",
        "outputId": "4da128da-bb50-44a9-ef60-0f7f367c38bb"
      },
      "execution_count": 374,
      "outputs": [
        {
          "output_type": "stream",
          "name": "stdout",
          "text": [
            "[-0.46, -0.692, -0.6976, -0.7067, -0.706074]\n"
          ]
        }
      ]
    },
    {
      "cell_type": "code",
      "source": [
        "dev = qml.device(\"default.qubit\", wires=1, shots=100000)\n",
        "\n",
        "@qml.qnode(dev)\n",
        "def circuit():\n",
        "    qml.RX(np.pi / 4, wires=0)\n",
        "    qml.Hadamard(wires=0)\n",
        "    qml.PauliZ(wires=0)\n",
        "\n",
        "    # RETURN MEASUREMENT SAMPLES OF THE CORRECT OBSERVABLE\n",
        "    return qml.sample(qml.PauliY(0))\n",
        "\n",
        "def compute_expval_from_samples(samples):\n",
        "    \"\"\"Estimate ⟨Y⟩ from ±1 samples.\"\"\"\n",
        "    # For ±1 outcomes, the expectation value is just the mean\n",
        "    estimated_expval = float(qml.math.sum(samples) / len(samples))\n",
        "    return estimated_expval\n",
        "\n",
        "samples = circuit()\n",
        "print(compute_expval_from_samples(samples))\n"
      ],
      "metadata": {
        "colab": {
          "base_uri": "https://localhost:8080/"
        },
        "id": "weqpWaTDLnbB",
        "outputId": "20886f5d-c8f3-4f44-9dbf-b025c6ef95eb"
      },
      "execution_count": 375,
      "outputs": [
        {
          "output_type": "stream",
          "name": "stdout",
          "text": [
            "-0.71056\n"
          ]
        }
      ]
    },
    {
      "cell_type": "markdown",
      "source": [
        "Codercise PF.3.2 — Hermitian observable"
      ],
      "metadata": {
        "id": "iyGK_QIWi9Wf"
      }
    },
    {
      "cell_type": "code",
      "source": [
        "dev = qml.device(\"default.qubit\", wires=2)\n",
        "\n",
        "A = np.array([[1, 0], [0, -1]])\n",
        "\n",
        "@qml.qnode(dev)\n",
        "def circuit():\n",
        "    \"\"\"\n",
        "    Prepare a Bell state and return ⟨A⟩ on the first qubit.\n",
        "    \"\"\"\n",
        "    qml.H(wires=0)\n",
        "    qml.CNOT(wires=[0, 1])\n",
        "    return qml.expval(qml.Hermitian(A, wires=0))\n",
        "print(circuit())"
      ],
      "metadata": {
        "colab": {
          "base_uri": "https://localhost:8080/"
        },
        "id": "BLfBO-DOhiGq",
        "outputId": "0b846b93-3dc9-4357-9694-0cf245ec747a"
      },
      "execution_count": 376,
      "outputs": [
        {
          "output_type": "stream",
          "name": "stdout",
          "text": [
            "0.0\n"
          ]
        }
      ]
    },
    {
      "cell_type": "code",
      "source": [
        "dev = qml.device(\"default.qubit\", wires=2)\n",
        "\n",
        "@qml.qnode(dev)\n",
        "def circuit():\n",
        "    \"\"\"\n",
        "    Prepare a Bell state and return the expectation value\n",
        "    of the joint PauliZ ⊗ PauliZ observable.\n",
        "    \"\"\"\n",
        "    qml.Hadamard(wires=0)\n",
        "    qml.CNOT(wires=[0, 1])\n",
        "\n",
        "    return qml.expval(qml.Z(wires=0) @ qml.Z(wires=1))\n",
        "\n",
        "\n",
        "print(circuit())   # should output 1.0"
      ],
      "metadata": {
        "id": "VaTO4H-tkHIH",
        "outputId": "b9530f56-d733-4875-db98-4a503c3a63cc",
        "colab": {
          "base_uri": "https://localhost:8080/"
        }
      },
      "execution_count": 377,
      "outputs": [
        {
          "output_type": "stream",
          "name": "stdout",
          "text": [
            "0.9999999999999998\n"
          ]
        }
      ]
    },
    {
      "cell_type": "markdown",
      "source": [
        "---\n",
        "---\n",
        "4 Bell sattes"
      ],
      "metadata": {
        "id": "eLyLBGMFpq4P"
      }
    },
    {
      "cell_type": "code",
      "source": [
        "def bell_pair(a, b):\n",
        "    qml.Hadamard(wires=a)\n",
        "    qml.CNOT(wires=[a, b])"
      ],
      "metadata": {
        "id": "SFN16Q6XYfam"
      },
      "execution_count": 378,
      "outputs": []
    },
    {
      "cell_type": "code",
      "source": [
        "def bell_phi_plus(a, b):\n",
        "    \"\"\"|Φ+> = (|00> + |11>)/√2\"\"\"\n",
        "    bell_pair(a, b)\n",
        "\n",
        "def bell_phi_minus(a, b):\n",
        "    \"\"\"|Φ-> = (|00> - |11>)/√2\"\"\"\n",
        "    bell_pair(a, b)\n",
        "    qml.PauliZ(wires=a)\n",
        "\n",
        "def bell_psi_plus(a, b):\n",
        "    \"\"\"|Ψ+> = (|01> + |10>)/√2\"\"\"\n",
        "    bell_pair(a, b)\n",
        "    qml.PauliX(wires=a)\n",
        "\n",
        "def bell_psi_minus(a, b):\n",
        "    \"\"\"|Ψ-> = (|01> - |10>)/√2\"\"\"\n",
        "    bell_pair(a, b)\n",
        "    qml.PauliX(wires=a)\n",
        "    qml.PauliZ(wires=a)"
      ],
      "metadata": {
        "id": "iBDOqs-IY7fc"
      },
      "execution_count": 379,
      "outputs": []
    },
    {
      "cell_type": "code",
      "source": [
        "bell_phi_plus"
      ],
      "metadata": {
        "colab": {
          "base_uri": "https://localhost:8080/",
          "height": 104
        },
        "id": "zNqDzIiQY9d0",
        "outputId": "f43239a6-d967-489d-e0f7-87ac1a149d49"
      },
      "execution_count": 380,
      "outputs": [
        {
          "output_type": "execute_result",
          "data": {
            "text/plain": [
              "<function __main__.bell_phi_plus(a, b)>"
            ],
            "text/html": [
              "<div style=\"max-width:800px; border: 1px solid var(--colab-border-color);\"><style>\n",
              "      pre.function-repr-contents {\n",
              "        overflow-x: auto;\n",
              "        padding: 8px 12px;\n",
              "        max-height: 500px;\n",
              "      }\n",
              "\n",
              "      pre.function-repr-contents.function-repr-contents-collapsed {\n",
              "        cursor: pointer;\n",
              "        max-height: 100px;\n",
              "      }\n",
              "    </style>\n",
              "    <pre style=\"white-space: initial; background:\n",
              "         var(--colab-secondary-surface-color); padding: 8px 12px;\n",
              "         border-bottom: 1px solid var(--colab-border-color);\"><b>bell_phi_plus</b><br/>def bell_phi_plus(a, b)</pre><pre class=\"function-repr-contents function-repr-contents-collapsed\" style=\"\"><a class=\"filepath\" style=\"display:none\" href=\"#\">/tmp/ipython-input-2408234349.py</a>|Φ+&gt; = (|00&gt; + |11&gt;)/√2</pre></div>"
            ]
          },
          "metadata": {},
          "execution_count": 380
        }
      ]
    },
    {
      "cell_type": "code",
      "source": [
        "bell_phi_minus"
      ],
      "metadata": {
        "colab": {
          "base_uri": "https://localhost:8080/",
          "height": 104
        },
        "id": "cMKe6coQZHGR",
        "outputId": "f104d2c8-bbbf-4b4e-930c-d851622cb793"
      },
      "execution_count": 381,
      "outputs": [
        {
          "output_type": "execute_result",
          "data": {
            "text/plain": [
              "<function __main__.bell_phi_minus(a, b)>"
            ],
            "text/html": [
              "<div style=\"max-width:800px; border: 1px solid var(--colab-border-color);\"><style>\n",
              "      pre.function-repr-contents {\n",
              "        overflow-x: auto;\n",
              "        padding: 8px 12px;\n",
              "        max-height: 500px;\n",
              "      }\n",
              "\n",
              "      pre.function-repr-contents.function-repr-contents-collapsed {\n",
              "        cursor: pointer;\n",
              "        max-height: 100px;\n",
              "      }\n",
              "    </style>\n",
              "    <pre style=\"white-space: initial; background:\n",
              "         var(--colab-secondary-surface-color); padding: 8px 12px;\n",
              "         border-bottom: 1px solid var(--colab-border-color);\"><b>bell_phi_minus</b><br/>def bell_phi_minus(a, b)</pre><pre class=\"function-repr-contents function-repr-contents-collapsed\" style=\"\"><a class=\"filepath\" style=\"display:none\" href=\"#\">/tmp/ipython-input-2408234349.py</a>|Φ-&gt; = (|00&gt; - |11&gt;)/√2</pre></div>"
            ]
          },
          "metadata": {},
          "execution_count": 381
        }
      ]
    },
    {
      "cell_type": "code",
      "source": [
        "bell_psi_plus"
      ],
      "metadata": {
        "colab": {
          "base_uri": "https://localhost:8080/",
          "height": 104
        },
        "id": "GsAlnxFKZHIY",
        "outputId": "a82a87c4-4c6f-4fc2-ec23-fe7e7e85577d"
      },
      "execution_count": 382,
      "outputs": [
        {
          "output_type": "execute_result",
          "data": {
            "text/plain": [
              "<function __main__.bell_psi_plus(a, b)>"
            ],
            "text/html": [
              "<div style=\"max-width:800px; border: 1px solid var(--colab-border-color);\"><style>\n",
              "      pre.function-repr-contents {\n",
              "        overflow-x: auto;\n",
              "        padding: 8px 12px;\n",
              "        max-height: 500px;\n",
              "      }\n",
              "\n",
              "      pre.function-repr-contents.function-repr-contents-collapsed {\n",
              "        cursor: pointer;\n",
              "        max-height: 100px;\n",
              "      }\n",
              "    </style>\n",
              "    <pre style=\"white-space: initial; background:\n",
              "         var(--colab-secondary-surface-color); padding: 8px 12px;\n",
              "         border-bottom: 1px solid var(--colab-border-color);\"><b>bell_psi_plus</b><br/>def bell_psi_plus(a, b)</pre><pre class=\"function-repr-contents function-repr-contents-collapsed\" style=\"\"><a class=\"filepath\" style=\"display:none\" href=\"#\">/tmp/ipython-input-2408234349.py</a>|Ψ+&gt; = (|01&gt; + |10&gt;)/√2</pre></div>"
            ]
          },
          "metadata": {},
          "execution_count": 382
        }
      ]
    },
    {
      "cell_type": "code",
      "source": [
        "bell_psi_minus"
      ],
      "metadata": {
        "colab": {
          "base_uri": "https://localhost:8080/",
          "height": 104
        },
        "id": "o4a6aAxSZHKe",
        "outputId": "d8c8921e-3ead-472b-fe3c-1ea584ced385"
      },
      "execution_count": 383,
      "outputs": [
        {
          "output_type": "execute_result",
          "data": {
            "text/plain": [
              "<function __main__.bell_psi_minus(a, b)>"
            ],
            "text/html": [
              "<div style=\"max-width:800px; border: 1px solid var(--colab-border-color);\"><style>\n",
              "      pre.function-repr-contents {\n",
              "        overflow-x: auto;\n",
              "        padding: 8px 12px;\n",
              "        max-height: 500px;\n",
              "      }\n",
              "\n",
              "      pre.function-repr-contents.function-repr-contents-collapsed {\n",
              "        cursor: pointer;\n",
              "        max-height: 100px;\n",
              "      }\n",
              "    </style>\n",
              "    <pre style=\"white-space: initial; background:\n",
              "         var(--colab-secondary-surface-color); padding: 8px 12px;\n",
              "         border-bottom: 1px solid var(--colab-border-color);\"><b>bell_psi_minus</b><br/>def bell_psi_minus(a, b)</pre><pre class=\"function-repr-contents function-repr-contents-collapsed\" style=\"\"><a class=\"filepath\" style=\"display:none\" href=\"#\">/tmp/ipython-input-2408234349.py</a>|Ψ-&gt; = (|01&gt; - |10&gt;)/√2</pre></div>"
            ]
          },
          "metadata": {},
          "execution_count": 383
        }
      ]
    },
    {
      "cell_type": "markdown",
      "source": [
        "## Entanglement Swapping\n",
        "\n",
        "- **Initially:**\n",
        "  - `A1` is entangled with `B`.\n",
        "  - `C` is entangled with `A2`.\n",
        "  - There is **no entanglement** between `B` and `C`.\n",
        "\n",
        "- **After Alice’s local Bell measurement** on her qubits (`A1`, `A2`):\n",
        "  - The entanglement is effectively **swapped**.\n",
        "  - `B` and `C` become entangled, **even though they never interacted directly**.\n",
        "\n",
        "This phenomenon is what we call **entanglement swapping**."
      ],
      "metadata": {
        "id": "2G4ryTaa0jtN"
      }
    },
    {
      "cell_type": "code",
      "source": [
        "# Alice owns A1 and A2. Bob owns B. Charlie owns C.\n",
        "wires = [\"A1\", \"B\", \"C\", \"A2\"]\n",
        "dev = qml.device(\"default.qubit\", wires=wires, shots=None)\n",
        "\n",
        "def bell_pair(a, b):\n",
        "    \"\"\"Make a Bell pair between wires a and b: (|00>+|11>)/sqrt(2).\"\"\"\n",
        "    qml.Hadamard(wires=a)\n",
        "    qml.CNOT(wires=[a, b])\n",
        "    qml.Barrier()\n",
        "\n",
        "@qml.qnode(dev)\n",
        "def entanglement_swapping():\n",
        "    # 1) Prepare two Bell pairs:\n",
        "    #    A1—B and C—A2. Alice shares one with Bob and one with Charlie.\n",
        "    bell_pair(\"A1\", \"B\")      # Bell(A1, B)\n",
        "    bell_pair(\"A2\", \"C\")      # Bell(A2, C)\n",
        "\n",
        "    # 2) Alice performs a Bell-basis measurement on her two qubits A1 and A2.\n",
        "    #    This is the \"teleportation\" step from A1 to C using A2 as the resource.\n",
        "    qml.CNOT(wires=[\"A1\", \"A2\"])\n",
        "    qml.Hadamard(wires=\"A1\")\n",
        "    qml.Barrier()\n",
        "\n",
        "    m1 = qml.measure(\"A1\")    # classical bit c1\n",
        "    m2 = qml.measure(\"A2\")    # classical bit c2\n",
        "\n",
        "    # 3) Alice sends the two classical bits (c1, c2) to Charlie.\n",
        "    #    Charlie applies the usual teleportation corrections on C.\n",
        "    #    If c2 = 1 apply X. If c1 = 1 apply Z.\n",
        "    qml.cond(m2, qml.PauliX)(\"C\")\n",
        "    qml.cond(m1, qml.PauliZ)(\"C\")\n",
        "\n",
        "    # After the corrections, Bob's and Charlie's qubits are entangled.\n",
        "    # Return their joint state to verify.\n",
        "    return qml.density_matrix(wires=[\"B\", \"C\"])"
      ],
      "metadata": {
        "id": "5KtJaEQCprpC"
      },
      "execution_count": 384,
      "outputs": []
    },
    {
      "cell_type": "code",
      "source": [
        "qml.draw_mpl(entanglement_swapping, style=\"pennylane\")()\n",
        "plt.show()"
      ],
      "metadata": {
        "colab": {
          "base_uri": "https://localhost:8080/",
          "height": 520
        },
        "id": "WITfFEy01hmI",
        "outputId": "6583fc06-b586-4167-d9ac-90fd6ac01ebb"
      },
      "execution_count": 385,
      "outputs": [
        {
          "output_type": "display_data",
          "data": {
            "text/plain": [
              "<Figure size 1600x600 with 1 Axes>"
            ],
            "image/png": "[encoded data removed]"
          },
          "metadata": {}
        }
      ]
    },
    {
      "cell_type": "markdown",
      "source": [
        "---\n",
        "#### Compare with the Teleportation circuit"
      ],
      "metadata": {
        "id": "g8Y9hrqtWUQ_"
      }
    },
    {
      "cell_type": "code",
      "source": [
        "_ = qml.draw_mpl(teleport, style=\"pennylane\")(state)"
      ],
      "metadata": {
        "colab": {
          "base_uri": "https://localhost:8080/",
          "height": 466
        },
        "id": "0I2-lNEjWTby",
        "outputId": "4f89a563-51d6-4336-f457-8b4a06e192c6"
      },
      "execution_count": 386,
      "outputs": [
        {
          "output_type": "display_data",
          "data": {
            "text/plain": [
              "<Figure size 1500x500 with 1 Axes>"
            ],
            "image/png": "[encoded data removed]"
          },
          "metadata": {}
        }
      ]
    },
    {
      "cell_type": "markdown",
      "source": [
        "---\n",
        "Let's check the Bob+ Charlie joint state"
      ],
      "metadata": {
        "id": "zhp22eR9XkUg"
      }
    },
    {
      "cell_type": "code",
      "source": [
        "rho_BC = entanglement_swapping()\n",
        "rho_BC"
      ],
      "metadata": {
        "colab": {
          "base_uri": "https://localhost:8080/"
        },
        "id": "9VUYRXeKXu2r",
        "outputId": "73cef06a-6cb2-4e90-ff9d-f5244bc7e843"
      },
      "execution_count": 387,
      "outputs": [
        {
          "output_type": "execute_result",
          "data": {
            "text/plain": [
              "array([[0.5+0.j, 0. +0.j, 0. +0.j, 0.5+0.j],\n",
              "       [0. +0.j, 0. +0.j, 0. +0.j, 0. +0.j],\n",
              "       [0. +0.j, 0. +0.j, 0. +0.j, 0. +0.j],\n",
              "       [0.5+0.j, 0. +0.j, 0. +0.j, 0.5+0.j]])"
            ]
          },
          "metadata": {},
          "execution_count": 387
        }
      ]
    },
    {
      "cell_type": "code",
      "source": [
        "sy.Matrix(rho_BC)"
      ],
      "metadata": {
        "colab": {
          "base_uri": "https://localhost:8080/",
          "height": 98
        },
        "id": "79nyVOV3XxXE",
        "outputId": "d50ab824-1cdb-475b-96c6-6e5d64cbfb5f"
      },
      "execution_count": 388,
      "outputs": [
        {
          "output_type": "execute_result",
          "data": {
            "text/plain": [
              "Matrix([\n",
              "[0.5, 0, 0, 0.5],\n",
              "[  0, 0, 0,   0],\n",
              "[  0, 0, 0,   0],\n",
              "[0.5, 0, 0, 0.5]])"
            ],
            "text/latex": "$\\displaystyle \\left[\\begin{matrix}0.5 & 0 & 0 & 0.5\\\\0 & 0 & 0 & 0\\\\0 & 0 & 0 & 0\\\\0.5 & 0 & 0 & 0.5\\end{matrix}\\right]$"
          },
          "metadata": {},
          "execution_count": 388
        }
      ]
    },
    {
      "cell_type": "code",
      "source": [
        "def entangle_qubits():\n",
        "    qml.Hadamard(wires=\"A\")\n",
        "    qml.CNOT(wires=[\"A\", \"B\"])"
      ],
      "metadata": {
        "id": "GQAS8aM7X7mb"
      },
      "execution_count": 389,
      "outputs": []
    },
    {
      "cell_type": "code",
      "source": [
        "# Device with 2 qubits only: Bob and Charlie\n",
        "dev_ref = qml.device(\"default.qubit\", wires= 2)\n",
        "\n",
        "@qml.qnode(dev_ref)\n",
        "def bell_state_density():\n",
        "    # Prepare Bell state |Φ+> = (|00>+|11>)/√2 between B and C\n",
        "    qml.Hadamard(wires= 0)\n",
        "    qml.CNOT(wires=[0 , 1])\n",
        "    return qml.density_matrix(wires=[0 , 1])"
      ],
      "metadata": {
        "id": "YTWDyB8gaKJo"
      },
      "execution_count": 390,
      "outputs": []
    },
    {
      "cell_type": "code",
      "source": [
        "sy.Matrix(bell_state_density())"
      ],
      "metadata": {
        "colab": {
          "base_uri": "https://localhost:8080/",
          "height": 98
        },
        "id": "5T1fWG7eaKQ-",
        "outputId": "2fc4db25-cc79-4647-92ae-4ade9ab9c7e0"
      },
      "execution_count": 391,
      "outputs": [
        {
          "output_type": "execute_result",
          "data": {
            "text/plain": [
              "Matrix([\n",
              "[0.5, 0, 0, 0.5],\n",
              "[  0, 0, 0,   0],\n",
              "[  0, 0, 0,   0],\n",
              "[0.5, 0, 0, 0.5]])"
            ],
            "text/latex": "$\\displaystyle \\left[\\begin{matrix}0.5 & 0 & 0 & 0.5\\\\0 & 0 & 0 & 0\\\\0 & 0 & 0 & 0\\\\0.5 & 0 & 0 & 0.5\\end{matrix}\\right]$"
          },
          "metadata": {},
          "execution_count": 391
        }
      ]
    },
    {
      "cell_type": "code",
      "source": [
        "# Device with 2 qubits only: Bob and Charlie\n",
        "dev_ref = qml.device(\"default.qubit\", wires= 2)\n",
        "\n",
        "@qml.qnode(dev_ref)\n",
        "def bell_state_ket():\n",
        "    # Prepare Bell state |Φ+> = (|00>+|11>)/√2 between B and C\n",
        "    qml.Hadamard(wires= 0)\n",
        "    qml.CNOT(wires=[0 , 1])\n",
        "    return qml.state()"
      ],
      "metadata": {
        "id": "DkIQkQpbalDg"
      },
      "execution_count": 392,
      "outputs": []
    },
    {
      "cell_type": "code",
      "source": [
        "bell_state_ket()"
      ],
      "metadata": {
        "colab": {
          "base_uri": "https://localhost:8080/"
        },
        "id": "mEWYnm8QavgC",
        "outputId": "8aea292e-b3a9-431e-8cc2-ebdbc429960e"
      },
      "execution_count": 393,
      "outputs": [
        {
          "output_type": "execute_result",
          "data": {
            "text/plain": [
              "array([0.70710678+0.j, 0.        +0.j, 0.        +0.j, 0.70710678+0.j])"
            ]
          },
          "metadata": {},
          "execution_count": 393
        }
      ]
    },
    {
      "cell_type": "code",
      "source": [
        "sy.Matrix(bell_state_ket())"
      ],
      "metadata": {
        "colab": {
          "base_uri": "https://localhost:8080/",
          "height": 98
        },
        "id": "53QkzXYzazHN",
        "outputId": "e1233156-89e5-4b16-e15a-ac249caa1b73"
      },
      "execution_count": 394,
      "outputs": [
        {
          "output_type": "execute_result",
          "data": {
            "text/plain": [
              "Matrix([\n",
              "[0.707106781186547],\n",
              "[                0],\n",
              "[                0],\n",
              "[0.707106781186547]])"
            ],
            "text/latex": "$\\displaystyle \\left[\\begin{matrix}0.707106781186547\\\\0\\\\0\\\\0.707106781186547\\end{matrix}\\right]$"
          },
          "metadata": {},
          "execution_count": 394
        }
      ]
    },
    {
      "cell_type": "code",
      "source": [
        "sy.Matrix(qml.math.dm_from_state_vector(bell_state_ket()))"
      ],
      "metadata": {
        "colab": {
          "base_uri": "https://localhost:8080/",
          "height": 98
        },
        "id": "2psvSn5ga2of",
        "outputId": "b72ae7c8-53d7-41ad-f112-24961d46eaf7"
      },
      "execution_count": 395,
      "outputs": [
        {
          "output_type": "execute_result",
          "data": {
            "text/plain": [
              "Matrix([\n",
              "[0.5, 0, 0, 0.5],\n",
              "[  0, 0, 0,   0],\n",
              "[  0, 0, 0,   0],\n",
              "[0.5, 0, 0, 0.5]])"
            ],
            "text/latex": "$\\displaystyle \\left[\\begin{matrix}0.5 & 0 & 0 & 0.5\\\\0 & 0 & 0 & 0\\\\0 & 0 & 0 & 0\\\\0.5 & 0 & 0 & 0.5\\end{matrix}\\right]$"
          },
          "metadata": {},
          "execution_count": 395
        }
      ]
    },
    {
      "cell_type": "code",
      "source": [
        "sy.Matrix(np.outer(bell_state_ket(), bell_state_ket().conj()))"
      ],
      "metadata": {
        "colab": {
          "base_uri": "https://localhost:8080/",
          "height": 98
        },
        "id": "MGLzSH6iboMs",
        "outputId": "63acbdf5-72af-4d65-bf11-950f880465ad"
      },
      "execution_count": 396,
      "outputs": [
        {
          "output_type": "execute_result",
          "data": {
            "text/plain": [
              "Matrix([\n",
              "[0.5, 0, 0, 0.5],\n",
              "[  0, 0, 0,   0],\n",
              "[  0, 0, 0,   0],\n",
              "[0.5, 0, 0, 0.5]])"
            ],
            "text/latex": "$\\displaystyle \\left[\\begin{matrix}0.5 & 0 & 0 & 0.5\\\\0 & 0 & 0 & 0\\\\0 & 0 & 0 & 0\\\\0.5 & 0 & 0 & 0.5\\end{matrix}\\right]$"
          },
          "metadata": {},
          "execution_count": 396
        }
      ]
    },
    {
      "cell_type": "markdown",
      "source": [
        "### Deferred Measurement Approach in Entanglement Swapping\n",
        "\n",
        "Instead of performing a **mid-circuit measurement** followed by **classically controlled corrections**, we can:\n",
        "\n",
        "1. Apply the **Bell-basis rotation** on Alice’s qubits (`A1`, `A2`).  \n",
        "2. Use the **post-rotation qubits** directly as quantum controls for Charlie’s corrections:  \n",
        "   - `A1` controls a **Z** on Charlie’s qubit.  \n",
        "   - `A2` controls an **X** on Charlie’s qubit.  \n",
        "3. (Optionally) measure Alice’s qubits at the end.\n",
        "\n",
        "This approach mirrors the classical procedure: the quantum controls on `A1` and `A2` behave exactly like the classical bits that would result from measuring them mid-circuit.  \n",
        "If we trace out Alice’s qubits, Bob and Charlie are left entangled, just as in the measurement-based version.\n",
        "\n",
        "---\n",
        "\n",
        "### Why This is Called *Entanglement Swapping*\n",
        "\n",
        "- **Initially:**  \n",
        "  - `A1` is entangled with `B`.  \n",
        "  - `C` is entangled with `A2`.  \n",
        "\n",
        "- **After Alice’s Bell-basis measurement and sending her two classical bits to Charlie:**  \n",
        "  - The entanglement is **swapped** to link `B` and `C`.  \n",
        "  - Crucially, no direct quantum interaction between `B` and `C` was required.\n"
      ],
      "metadata": {
        "id": "zeAmuD_n2JnF"
      }
    },
    {
      "cell_type": "code",
      "source": [
        "wires = [\"A1\", \"B\", \"C\", \"A2\"]\n",
        "\n",
        "dev = qml.device(\"default.qubit\", wires=wires, shots=None)\n",
        "\n",
        "def bell_pair(a, b):\n",
        "    \"\"\"Prepare (|00>+|11>)/√2 on wires a,b.\"\"\"\n",
        "    qml.Hadamard(wires=a)\n",
        "    qml.CNOT(wires=[a, b])\n",
        "    qml.Barrier()\n",
        "\n",
        "@qml.qnode(dev)\n",
        "def entanglement_swapping_d():\n",
        "    # -- Resources: Alice shares Bell(A1,B) and Bell(A2,C) --\n",
        "    bell_pair(\"A1\", \"B\")      # Alice–Bob\n",
        "    bell_pair(\"A2\", \"C\")      # Alice–Charlie\n",
        "\n",
        "    # -- Bell-basis rotation on Alice’s qubits (A1,A2) --\n",
        "    #   (this is the same rotation used before the usual mid-circuit measurement)\n",
        "    qml.CNOT(wires=[\"A1\", \"A2\"])\n",
        "    qml.Hadamard(wires=\"A1\")\n",
        "    qml.Barrier()\n",
        "\n",
        "    # -- Deferred measurement principle --\n",
        "    # Replace classical conditional corrections X^{m2} Z^{m1} on C\n",
        "    # with quantum-controlled gates whose controls are A2 and A1, respectively.\n",
        "    qml.CNOT(wires=[\"A2\", \"C\"])  # applies X on C iff A2=1\n",
        "    qml.CZ(wires=[\"A1\", \"C\"])    # applies Z on C iff A1=1\n",
        "\n",
        "    # (Optional) You could now measure A1,A2 at the end to read the same bits m1,m2.\n",
        "    # We skip measuring because we only care about the entangled state of B and C.\n",
        "    return qml.density_matrix(wires=[\"B\", \"C\"])\n",
        "\n",
        "# Example: draw or evaluate\n",
        "# import matplotlib.pyplot as plt\n",
        "# qml.draw_mpl(entanglement_swapping_d, style=\"pennylane\")(); plt.show()\n",
        "# rho_BC = entanglement_swapping_d()"
      ],
      "metadata": {
        "id": "N1MsLMJD2JxM"
      },
      "execution_count": 397,
      "outputs": []
    },
    {
      "cell_type": "code",
      "source": [
        "qml.draw_mpl(entanglement_swapping_d, style=\"pennylane\")()\n",
        "# plt.show()\n",
        "\n",
        "# _ = qml.draw_mpl(teleport, style=\"pennylane\")(state)"
      ],
      "metadata": {
        "colab": {
          "base_uri": "https://localhost:8080/",
          "height": 515
        },
        "id": "8SQddeAT2S4W",
        "outputId": "29c79443-b609-4f66-f686-93e501461135"
      },
      "execution_count": 398,
      "outputs": [
        {
          "output_type": "execute_result",
          "data": {
            "text/plain": [
              "(<Figure size 1400x500 with 1 Axes>, <Axes: >)"
            ]
          },
          "metadata": {},
          "execution_count": 398
        },
        {
          "output_type": "display_data",
          "data": {
            "text/plain": [
              "<Figure size 1400x500 with 1 Axes>"
            ],
            "image/png": "[encoded data removed]"
          },
          "metadata": {}
        }
      ]
    },
    {
      "cell_type": "code",
      "source": [],
      "metadata": {
        "id": "hgkgF8P42S70"
      },
      "execution_count": 398,
      "outputs": []
    },
    {
      "cell_type": "markdown",
      "source": [
        "---\n",
        "---"
      ],
      "metadata": {
        "id": "uRaUq-xX2AH9"
      }
    },
    {
      "cell_type": "markdown",
      "source": [
        "---\n",
        "---"
      ],
      "metadata": {
        "id": "8BrPNJHVXRzW"
      }
    },
    {
      "cell_type": "code",
      "source": [],
      "metadata": {
        "id": "kcYkot7WDv3g"
      },
      "execution_count": 398,
      "outputs": []
    }
  ]
}